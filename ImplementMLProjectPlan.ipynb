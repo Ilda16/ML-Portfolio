{
 "cells": [
  {
   "cell_type": "markdown",
   "metadata": {},
   "source": [
    "# Lab 8: Implement Your Machine Learning Project Plan"
   ]
  },
  {
   "cell_type": "markdown",
   "metadata": {},
   "source": [
    "In this lab assignment, you will implement the machine learning project plan you created in the written assignment. You will:\n",
    "\n",
    "1. Load your data set and save it to a Pandas DataFrame.\n",
    "2. Perform exploratory data analysis on your data to determine which feature engineering and data preparation techniques you will use.\n",
    "3. Prepare your data for your model and create features and a label.\n",
    "4. Fit your model to the training data and evaluate your model.\n",
    "5. Improve your model by performing model selection and/or feature selection techniques to find best model for your problem."
   ]
  },
  {
   "cell_type": "markdown",
   "metadata": {},
   "source": [
    "### Import Packages\n",
    "\n",
    "Before you get started, import a few packages."
   ]
  },
  {
   "cell_type": "code",
   "execution_count": 1,
   "metadata": {},
   "outputs": [],
   "source": [
    "import pandas as pd\n",
    "import numpy as np\n",
    "import os \n",
    "import matplotlib.pyplot as plt\n",
    "import seaborn as sns"
   ]
  },
  {
   "cell_type": "markdown",
   "metadata": {},
   "source": [
    "<b>Task:</b> In the code cell below, import additional packages that you have used in this course that you will need for this task."
   ]
  },
  {
   "cell_type": "code",
   "execution_count": 2,
   "metadata": {},
   "outputs": [],
   "source": [
    "# YOUR CODE HERE\n",
    "from sklearn.model_selection import train_test_split\n",
    "from sklearn.metrics import mean_squared_error\n",
    "from sklearn.model_selection import GridSearchCV\n",
    "from sklearn.ensemble import RandomForestRegressor"
   ]
  },
  {
   "cell_type": "markdown",
   "metadata": {},
   "source": [
    "## Part 1: Load the Data Set\n",
    "\n",
    "\n",
    "You have chosen to work with one of four data sets. The data sets are located in a folder named \"data.\" The file names of the three data sets are as follows:\n",
    "\n",
    "* The \"adult\" data set that contains Census information from 1994 is located in file `adultData.csv`\n",
    "* The airbnb NYC \"listings\" data set is located in file  `airbnbListingsData.csv`\n",
    "* The World Happiness Report (WHR) data set is located in file `WHR2018Chapter2OnlineData.csv`\n",
    "* The book review data set is located in file `bookReviewsData.csv`\n",
    "\n",
    "\n",
    "\n",
    "<b>Task:</b> In the code cell below, use the same method you have been using to load your data using `pd.read_csv()` and save it to DataFrame `df`."
   ]
  },
  {
   "cell_type": "code",
   "execution_count": 3,
   "metadata": {},
   "outputs": [],
   "source": [
    "# YOUR CODE HERE\n",
    "file_path = 'data/airbnbListingsData.csv'\n",
    "\n",
    "df = pd.read_csv(file_path)"
   ]
  },
  {
   "cell_type": "markdown",
   "metadata": {},
   "source": [
    "## Part 2: Exploratory Data Analysis\n",
    "\n",
    "The next step is to inspect and analyze your data set with your machine learning problem and project plan in mind. \n",
    "\n",
    "This step will help you determine data preparation and feature engineering techniques you will need to apply to your data to build a balanced modeling data set for your problem and model. These data preparation techniques may include:\n",
    "* addressing missingness, such as replacing missing values with means\n",
    "* renaming features and labels\n",
    "* finding and replacing outliers\n",
    "* performing winsorization if needed\n",
    "* performing one-hot encoding on categorical features\n",
    "* performing vectorization for an NLP problem\n",
    "* addressing class imbalance in your data sample to promote fair AI\n",
    "\n",
    "\n",
    "Think of the different techniques you have used to inspect and analyze your data in this course. These include using Pandas to apply data filters, using the Pandas `describe()` method to get insight into key statistics for each column, using the Pandas `dtypes` property to inspect the data type of each column, and using Matplotlib and Seaborn to detect outliers and visualize relationships between features and labels. If you are working on a classification problem, use techniques you have learned to determine if there is class imbalance.\n",
    "\n",
    "\n",
    "<b>Task</b>: Use the techniques you have learned in this course to inspect and analyze your data. \n",
    "\n",
    "<b>Note</b>: You can add code cells if needed by going to the <b>Insert</b> menu and clicking on <b>Insert Cell Below</b> in the drop-drown menu."
   ]
  },
  {
   "cell_type": "code",
   "execution_count": 4,
   "metadata": {},
   "outputs": [
    {
     "name": "stdout",
     "output_type": "stream",
     "text": [
      "                                                name  \\\n",
      "0                              Skylit Midtown Castle   \n",
      "1  Whole flr w/private bdrm, bath & kitchen(pls r...   \n",
      "2           Spacious Brooklyn Duplex, Patio + Garden   \n",
      "3                   Large Furnished Room Near B'way　   \n",
      "4                 Cozy Clean Guest Room - Family Apt   \n",
      "\n",
      "                                         description  \\\n",
      "0  Beautiful, spacious skylit studio in the heart...   \n",
      "1  Enjoy 500 s.f. top floor in 1899 brownstone, w...   \n",
      "2  We welcome you to stay in our lovely 2 br dupl...   \n",
      "3  Please don’t expect the luxury here just a bas...   \n",
      "4  Our best guests are seeking a safe, clean, spa...   \n",
      "\n",
      "                               neighborhood_overview    host_name  \\\n",
      "0  Centrally located in the heart of Manhattan ju...     Jennifer   \n",
      "1  Just the right mix of urban center and local n...  LisaRoxanne   \n",
      "2                                                NaN      Rebecca   \n",
      "3    Theater district, many restaurants around here.     Shunichi   \n",
      "4  Our neighborhood is full of restaurants and ca...    MaryEllen   \n",
      "\n",
      "                       host_location  \\\n",
      "0  New York, New York, United States   \n",
      "1  New York, New York, United States   \n",
      "2  Brooklyn, New York, United States   \n",
      "3  New York, New York, United States   \n",
      "4  New York, New York, United States   \n",
      "\n",
      "                                          host_about  host_response_rate  \\\n",
      "0  A New Yorker since 2000! My passion is creatin...                0.80   \n",
      "1  Laid-back Native New Yorker (formerly bi-coast...                0.09   \n",
      "2  Rebecca is an artist/designer, and Henoch is i...                1.00   \n",
      "3  I used to work for a financial industry but no...                1.00   \n",
      "4  Welcome to family life with my oldest two away...                 NaN   \n",
      "\n",
      "   host_acceptance_rate  host_is_superhost  host_listings_count  ...  \\\n",
      "0                  0.17               True                  8.0  ...   \n",
      "1                  0.69               True                  1.0  ...   \n",
      "2                  0.25               True                  1.0  ...   \n",
      "3                  1.00               True                  1.0  ...   \n",
      "4                   NaN               True                  1.0  ...   \n",
      "\n",
      "   review_scores_communication  review_scores_location  review_scores_value  \\\n",
      "0                         4.79                    4.86                 4.41   \n",
      "1                         4.80                    4.71                 4.64   \n",
      "2                         5.00                    4.50                 5.00   \n",
      "3                         4.42                    4.87                 4.36   \n",
      "4                         4.95                    4.94                 4.92   \n",
      "\n",
      "  instant_bookable calculated_host_listings_count  \\\n",
      "0            False                              3   \n",
      "1            False                              1   \n",
      "2            False                              1   \n",
      "3            False                              1   \n",
      "4            False                              1   \n",
      "\n",
      "   calculated_host_listings_count_entire_homes  \\\n",
      "0                                            3   \n",
      "1                                            1   \n",
      "2                                            1   \n",
      "3                                            0   \n",
      "4                                            0   \n",
      "\n",
      "   calculated_host_listings_count_private_rooms  \\\n",
      "0                                             0   \n",
      "1                                             0   \n",
      "2                                             0   \n",
      "3                                             1   \n",
      "4                                             1   \n",
      "\n",
      "   calculated_host_listings_count_shared_rooms  reviews_per_month  \\\n",
      "0                                            0               0.33   \n",
      "1                                            0               4.86   \n",
      "2                                            0               0.02   \n",
      "3                                            0               3.68   \n",
      "4                                            0               0.87   \n",
      "\n",
      "  n_host_verifications  \n",
      "0                    9  \n",
      "1                    6  \n",
      "2                    3  \n",
      "3                    4  \n",
      "4                    7  \n",
      "\n",
      "[5 rows x 50 columns]\n",
      "name                                                5\n",
      "description                                       570\n",
      "neighborhood_overview                            9816\n",
      "host_name                                           0\n",
      "host_location                                      60\n",
      "host_about                                      10945\n",
      "host_response_rate                              11843\n",
      "host_acceptance_rate                            11113\n",
      "host_is_superhost                                   0\n",
      "host_listings_count                                 0\n",
      "host_total_listings_count                           0\n",
      "host_has_profile_pic                                0\n",
      "host_identity_verified                              0\n",
      "neighbourhood_group_cleansed                        0\n",
      "room_type                                           0\n",
      "accommodates                                        0\n",
      "bathrooms                                           0\n",
      "bedrooms                                         2918\n",
      "beds                                             1354\n",
      "amenities                                           0\n",
      "price                                               0\n",
      "minimum_nights                                      0\n",
      "maximum_nights                                      0\n",
      "minimum_minimum_nights                              0\n",
      "maximum_minimum_nights                              0\n",
      "minimum_maximum_nights                              0\n",
      "maximum_maximum_nights                              0\n",
      "minimum_nights_avg_ntm                              0\n",
      "maximum_nights_avg_ntm                              0\n",
      "has_availability                                    0\n",
      "availability_30                                     0\n",
      "availability_60                                     0\n",
      "availability_90                                     0\n",
      "availability_365                                    0\n",
      "number_of_reviews                                   0\n",
      "number_of_reviews_ltm                               0\n",
      "number_of_reviews_l30d                              0\n",
      "review_scores_rating                                0\n",
      "review_scores_cleanliness                           0\n",
      "review_scores_checkin                               0\n",
      "review_scores_communication                         0\n",
      "review_scores_location                              0\n",
      "review_scores_value                                 0\n",
      "instant_bookable                                    0\n",
      "calculated_host_listings_count                      0\n",
      "calculated_host_listings_count_entire_homes         0\n",
      "calculated_host_listings_count_private_rooms        0\n",
      "calculated_host_listings_count_shared_rooms         0\n",
      "reviews_per_month                                   0\n",
      "n_host_verifications                                0\n",
      "dtype: int64\n"
     ]
    },
    {
     "data": {
      "image/png": "[encoded data removed]",
      "text/plain": [
       "<Figure size 576x432 with 1 Axes>"
      ]
     },
     "metadata": {
      "needs_background": "light"
     },
     "output_type": "display_data"
    },
    {
     "data": {
      "image/png": "[encoded data removed]",
      "text/plain": [
       "<Figure size 576x432 with 1 Axes>"
      ]
     },
     "metadata": {
      "needs_background": "light"
     },
     "output_type": "display_data"
    }
   ],
   "source": [
    "# YOUR CODE HERE\n",
    "\n",
    "#Print rows and check for missing values\n",
    "print(df.head())\n",
    "\n",
    "print(df.isnull().sum())\n",
    "\n",
    "#Analyze the data set through a graph\n",
    "\n",
    "plt.figure(figsize=(8, 6))\n",
    "sns.histplot(df['price'], kde = True)\n",
    "plt.xlabel('Price')\n",
    "plt.ylabel('Frequency')\n",
    "plt.title('Distribution of Price')\n",
    "plt.show()\n",
    "\n",
    "#Check for outliers, which will help us see any errors or inconsistency\n",
    "plt.figure(figsize = (8, 6))\n",
    "sns.boxplot(x = df['price'])\n",
    "plt.xlabel('Price')\n",
    "plt.title('Boxplot of Price')\n",
    "plt.show()\n"
   ]
  },
  {
   "cell_type": "markdown",
   "metadata": {},
   "source": [
    "## Part 3: Implement Your Project Plan\n",
    "\n",
    "<b>Task:</b> Use the rest of this notebook to carry out your project plan. You will:\n",
    "\n",
    "1. Prepare your data for your model and create features and a label.\n",
    "2. Fit your model to the training data and evaluate your model.\n",
    "3. Improve your model by performing model selection and/or feature selection techniques to find best model for your problem.\n",
    "\n",
    "\n",
    "Add code cells below and populate the notebook with commentary, code, analyses, results, and figures as you see fit."
   ]
  },
  {
   "cell_type": "code",
   "execution_count": null,
   "metadata": {
    "scrolled": true
   },
   "outputs": [],
   "source": [
    "# YOUR CODE HERE\n",
    "\n",
    "\n",
    "#Data Splitting\n",
    "\n",
    "# Define features (X) and target variable (y), labels\n",
    "X = df.drop('price', axis = 1)\n",
    "y = df['price']\n",
    "\n",
    "# Split the data into training and testing sets\n",
    "X_train, X_test, y_train, y_test = train_test_split(X, y, test_size = 0.2, random_state = 42)\n",
    "\n",
    "\n",
    "\n",
    "\n",
    "\n",
    "#Data Preparation and Feature Engineering(1)\n",
    "\n",
    "# Handle missing values (Example: Fill missing numerical values with mean)\n",
    "X_train = X_train.copy()\n",
    "X_train.fillna(X_train.mean(), inplace=True)\n",
    "\n",
    "X_test = X_test.copy()\n",
    "X_test.fillna(X_test.mean(), inplace=True)\n",
    "\n",
    "\n",
    "\n",
    "#Train data(2)\n",
    "\n",
    "#initialize the model, then fit the model\n",
    "\n",
    "X_train_encoded = pd.get_dummies(X_train)\n",
    "X_test_encoded = pd.get_dummies(X_test)\n",
    "model = RandomForestRegressor(random_state = 42)\n",
    "model.fit(X_train_encoded, y_train)\n",
    "\n",
    "# Predict the testing data(3)\n",
    "y_pred = model.predict(X_test_encoded)\n",
    "\n",
    "# Evaluate the model \n",
    "mse = mean_squared_error(y_test, y_pred)\n",
    "print(\"Mean Squared Error:\", mse)\n",
    "\n",
    "\n",
    "#Model Improvement(4)\n",
    "\n",
    "#  hyperparameter grid for GridSearchCV\n",
    "param_grid = {\n",
    "    'n_estimators': [100, 200, 300],\n",
    "    'max_depth': [None, 10, 20],\n",
    "    'min_samples_split': [2, 5, 10],\n",
    "    'min_samples_leaf': [1, 2, 4]\n",
    "}\n",
    "\n",
    "# Perform GridSearchCV to find best hyperparameters\n",
    "grid_search = GridSearchCV(estimator = model, param_grid = param_grid, cv = 3, scoring = 'neg_mean_squared_error')\n",
    "\n",
    "#fit the grid search\n",
    "grid_search.fit(X_train_encoded, y_train)\n",
    "\n",
    "# Get the best model from GridSearchCV\n",
    "best_model = grid_search.best_estimator_\n",
    "\n",
    "# Predict on the testing data using the best model\n",
    "y_pred_best = best_model.predict(X_test_encoded)\n",
    "\n",
    "# Evaluate the best model using mean squared error\n",
    "mse_best = mean_squared_error(y_test, y_pred_best)\n",
    "\n",
    "print(\"Best Model Mean Squared Error:\", mse_best)\n",
    "\n"
   ]
  },
  {
   "cell_type": "code",
   "execution_count": null,
   "metadata": {},
   "outputs": [],
   "source": []
  }
 ],
 "metadata": {
  "kernelspec": {
   "display_name": "Python 3",
   "language": "python",
   "name": "python3"
  },
  "language_info": {
   "codemirror_mode": {
    "name": "ipython",
    "version": 3
   },
   "file_extension": ".py",
   "mimetype": "text/x-python",
   "name": "python",
   "nbconvert_exporter": "python",
   "pygments_lexer": "ipython3",
   "version": "3.6.9"
  },
  "toc": {
   "base_numbering": 1,
   "nav_menu": {},
   "number_sections": false,
   "sideBar": true,
   "skip_h1_title": false,
   "title_cell": "Table of Contents",
   "title_sidebar": "Contents",
   "toc_cell": false,
   "toc_position": {},
   "toc_section_display": true,
   "toc_window_display": false
  },
  "varInspector": {
   "cols": {
    "lenName": 16,
    "lenType": 16,
    "lenVar": 40
   },
   "kernels_config": {
    "python": {
     "delete_cmd_postfix": "",
     "delete_cmd_prefix": "del ",
     "library": "var_list.py",
     "varRefreshCmd": "print(var_dic_list())"
    },
    "r": {
     "delete_cmd_postfix": ") ",
     "delete_cmd_prefix": "rm(",
     "library": "var_list.r",
     "varRefreshCmd": "cat(var_dic_list()) "
    }
   },
   "types_to_exclude": [
    "module",
    "function",
    "builtin_function_or_method",
    "instance",
    "_Feature"
   ],
   "window_display": false
  }
 },
 "nbformat": 4,
 "nbformat_minor": 2
}
