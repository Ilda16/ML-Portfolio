{
 "cells": [
  {
   "cell_type": "markdown",
   "metadata": {},
   "source": [
    "# Lab 2: Building a Modeling Data Set"
   ]
  },
  {
   "cell_type": "code",
   "execution_count": 1,
   "metadata": {},
   "outputs": [],
   "source": [
    "import os\n",
    "import pandas as pd\n",
    "import numpy as np\n",
    "%matplotlib inline\n",
    "import matplotlib.pyplot as plt \n",
    "import seaborn as sns\n",
    "sns.set_theme()"
   ]
  },
  {
   "cell_type": "markdown",
   "metadata": {},
   "source": [
    "In this lab, you will complete the following tasks to <b>build a modeling data set</b>:\n",
    "\n",
    "1. <b>Load the Airbnb \"listings\" data set</b> and identify the <b>number of rows & columns</b>\n",
    "2. <b>Remove features</b> that are not currently useful for analysis; <br>\n",
    "<b>Modify features</b> to make sure they are machine-comprehensible\n",
    "3. Build a new regression <b>label column</b> by winsorizing outliers\n",
    "4. Replace all <b>missing values</b> with means\n",
    "5. <b>Identify</b> two features with the <b>highest correlation with the label</b>\n",
    "6. Build appropriate <b>bivariate plots</b> between the highest correlated features and the label\n"
   ]
  },
  {
   "cell_type": "markdown",
   "metadata": {},
   "source": [
    "## Part 1. Load the Data"
   ]
  },
  {
   "cell_type": "markdown",
   "metadata": {},
   "source": [
    "We will once again be working with the Airbnb NYC \"listings\" data set. Use the specified path and name of the file to load the data. Save it as a Pandas DataFrame called `df`."
   ]
  },
  {
   "cell_type": "code",
   "execution_count": 2,
   "metadata": {},
   "outputs": [],
   "source": [
    "# Do not remove or edit the line below:\n",
    "filename = os.path.join(os.getcwd(), \"data\", \"listings.csv.gz\")"
   ]
  },
  {
   "cell_type": "markdown",
   "metadata": {},
   "source": [
    "**Task**: load the data and save it to DataFrame `df`."
   ]
  },
  {
   "cell_type": "code",
   "execution_count": 3,
   "metadata": {},
   "outputs": [
    {
     "name": "stderr",
     "output_type": "stream",
     "text": [
      "/usr/local/lib/python3.6/dist-packages/IPython/core/interactiveshell.py:2728: DtypeWarning: Columns (67) have mixed types.Specify dtype option on import or set low_memory=False.\n",
      "  interactivity=interactivity, compiler=compiler, result=result)\n"
     ]
    }
   ],
   "source": [
    "# YOUR CODE HERE\n",
    "#gzip compresses the data\n",
    "\n",
    "df = pd.read_csv(filename, compression='gzip')\n",
    "\n"
   ]
  },
  {
   "cell_type": "markdown",
   "metadata": {},
   "source": [
    "<b>Task</b>: Display the shape of `df` -- that is, the number of rows and columns."
   ]
  },
  {
   "cell_type": "code",
   "execution_count": 4,
   "metadata": {},
   "outputs": [
    {
     "name": "stdout",
     "output_type": "stream",
     "text": [
      "(38277, 74)\n"
     ]
    }
   ],
   "source": [
    "# YOUR CODE HERE\n",
    "print(df.shape)"
   ]
  },
  {
   "cell_type": "markdown",
   "metadata": {},
   "source": [
    "**Task**: Get a peek at the data by displaying the first few rows, as you usually do."
   ]
  },
  {
   "cell_type": "code",
   "execution_count": 5,
   "metadata": {},
   "outputs": [
    {
     "name": "stdout",
     "output_type": "stream",
     "text": [
      "     id                        listing_url       scrape_id last_scraped  \\\n",
      "0  2595  https://www.airbnb.com/rooms/2595  20211204143024   2021-12-05   \n",
      "1  3831  https://www.airbnb.com/rooms/3831  20211204143024   2021-12-05   \n",
      "2  5121  https://www.airbnb.com/rooms/5121  20211204143024   2021-12-05   \n",
      "3  5136  https://www.airbnb.com/rooms/5136  20211204143024   2021-12-05   \n",
      "4  5178  https://www.airbnb.com/rooms/5178  20211204143024   2021-12-05   \n",
      "\n",
      "                                                name  \\\n",
      "0                              Skylit Midtown Castle   \n",
      "1  Whole flr w/private bdrm, bath & kitchen(pls r...   \n",
      "2                                    BlissArtsSpace!   \n",
      "3           Spacious Brooklyn Duplex, Patio + Garden   \n",
      "4                   Large Furnished Room Near B'way　   \n",
      "\n",
      "                                         description  \\\n",
      "0  Beautiful, spacious skylit studio in the heart...   \n",
      "1  Enjoy 500 s.f. top floor in 1899 brownstone, w...   \n",
      "2  <b>The space</b><br />HELLO EVERYONE AND THANK...   \n",
      "3  We welcome you to stay in our lovely 2 br dupl...   \n",
      "4  Please don’t expect the luxury here just a bas...   \n",
      "\n",
      "                               neighborhood_overview  \\\n",
      "0  Centrally located in the heart of Manhattan ju...   \n",
      "1  Just the right mix of urban center and local n...   \n",
      "2                                                NaN   \n",
      "3                                                NaN   \n",
      "4    Theater district, many restaurants around here.   \n",
      "\n",
      "                                         picture_url  host_id  \\\n",
      "0  https://a0.muscache.com/pictures/f0813a11-40b2...     2845   \n",
      "1  https://a0.muscache.com/pictures/e49999c2-9fd5...     4869   \n",
      "2  https://a0.muscache.com/pictures/2090980c-b68e...     7356   \n",
      "3  https://a0.muscache.com/pictures/miso/Hosting-...     7378   \n",
      "4  https://a0.muscache.com/pictures/12065/f070997...     8967   \n",
      "\n",
      "                                 host_url  ... review_scores_communication  \\\n",
      "0  https://www.airbnb.com/users/show/2845  ...                        4.79   \n",
      "1  https://www.airbnb.com/users/show/4869  ...                        4.80   \n",
      "2  https://www.airbnb.com/users/show/7356  ...                        4.91   \n",
      "3  https://www.airbnb.com/users/show/7378  ...                        5.00   \n",
      "4  https://www.airbnb.com/users/show/8967  ...                        4.42   \n",
      "\n",
      "  review_scores_location review_scores_value license instant_bookable  \\\n",
      "0                   4.86                4.41     NaN                f   \n",
      "1                   4.71                4.64     NaN                f   \n",
      "2                   4.47                4.52     NaN                f   \n",
      "3                   4.50                5.00     NaN                f   \n",
      "4                   4.87                4.36     NaN                f   \n",
      "\n",
      "  calculated_host_listings_count calculated_host_listings_count_entire_homes  \\\n",
      "0                              3                                           3   \n",
      "1                              1                                           1   \n",
      "2                              2                                           0   \n",
      "3                              1                                           1   \n",
      "4                              1                                           0   \n",
      "\n",
      "  calculated_host_listings_count_private_rooms  \\\n",
      "0                                            0   \n",
      "1                                            0   \n",
      "2                                            2   \n",
      "3                                            0   \n",
      "4                                            1   \n",
      "\n",
      "  calculated_host_listings_count_shared_rooms reviews_per_month  \n",
      "0                                           0              0.33  \n",
      "1                                           0              4.86  \n",
      "2                                           0              0.52  \n",
      "3                                           0              0.02  \n",
      "4                                           0              3.68  \n",
      "\n",
      "[5 rows x 74 columns]\n"
     ]
    }
   ],
   "source": [
    "# YOUR CODE HERE\n",
    "\n",
    "print(df.head())"
   ]
  },
  {
   "cell_type": "markdown",
   "metadata": {},
   "source": [
    "## Part 2. Feature Selection and Engineering"
   ]
  },
  {
   "cell_type": "markdown",
   "metadata": {},
   "source": [
    "We won't need the data fields that contain free, unstructured text. For example, we wont need the columns that contain apartment descriptions supplied by the host, customer reviews, or descriptions of the neighborhoods in which a listing is located."
   ]
  },
  {
   "cell_type": "markdown",
   "metadata": {},
   "source": [
    "The code cell below contains a list containing the names of *unstructured text* columns.<br>\n"
   ]
  },
  {
   "cell_type": "code",
   "execution_count": 6,
   "metadata": {},
   "outputs": [],
   "source": [
    "unstr_text_colnames = ['description', 'name', 'neighborhood_overview', 'host_about', 'host_name', 'host_location']"
   ]
  },
  {
   "cell_type": "markdown",
   "metadata": {},
   "source": [
    "**Task**: Drop the columns with the specified names, *in place* (that is, make sure this change applies to the original DataFrame `df`, instead of creating a temporary new DataFrame with fewer columns)."
   ]
  },
  {
   "cell_type": "code",
   "execution_count": 7,
   "metadata": {},
   "outputs": [],
   "source": [
    "# YOUR CODE HERE\n",
    "\n",
    "df.drop(unstr_text_colnames,axis = 1,inplace = True)\n",
    "\n",
    "\n"
   ]
  },
  {
   "cell_type": "markdown",
   "metadata": {},
   "source": [
    "**Task**: Display the shape of the data to verify that the new number of columns is what you expected."
   ]
  },
  {
   "cell_type": "code",
   "execution_count": 8,
   "metadata": {},
   "outputs": [
    {
     "name": "stdout",
     "output_type": "stream",
     "text": [
      "(38277, 68)\n"
     ]
    }
   ],
   "source": [
    "# YOUR CODE HERE\n",
    "print(df.shape)"
   ]
  },
  {
   "cell_type": "markdown",
   "metadata": {},
   "source": [
    "We will furthermore get rid of all the columns which contain website addresses (URLs).<br>\n",
    "\n",
    "**Task**: Create a list which contains the names of columns that contain URLs.<br> Save the resulting list to variable `url_colnames`.\n",
    "\n",
    "*Tip*: There are different ways to accomplish this, including using Python list comprehensions"
   ]
  },
  {
   "cell_type": "code",
   "execution_count": 9,
   "metadata": {},
   "outputs": [],
   "source": [
    "# YOUR CODE HERE\n",
    "url_colnames = []"
   ]
  },
  {
   "cell_type": "markdown",
   "metadata": {},
   "source": [
    "**Task**: Drop the columns with the specified names contained in list `url_colnames` in place (that is, make sure this change applies to the original DataFrame `df`, instead of creating a temporary new DataFrame object with fewer columns)."
   ]
  },
  {
   "cell_type": "code",
   "execution_count": 10,
   "metadata": {},
   "outputs": [
    {
     "data": {
      "text/html": [
       "<div>\n",
       "<style scoped>\n",
       "    .dataframe tbody tr th:only-of-type {\n",
       "        vertical-align: middle;\n",
       "    }\n",
       "\n",
       "    .dataframe tbody tr th {\n",
       "        vertical-align: top;\n",
       "    }\n",
       "\n",
       "    .dataframe thead th {\n",
       "        text-align: right;\n",
       "    }\n",
       "</style>\n",
       "<table border=\"1\" class=\"dataframe\">\n",
       "  <thead>\n",
       "    <tr style=\"text-align: right;\">\n",
       "      <th></th>\n",
       "      <th>id</th>\n",
       "      <th>listing_url</th>\n",
       "      <th>scrape_id</th>\n",
       "      <th>last_scraped</th>\n",
       "      <th>picture_url</th>\n",
       "      <th>host_id</th>\n",
       "      <th>host_url</th>\n",
       "      <th>host_since</th>\n",
       "      <th>host_response_time</th>\n",
       "      <th>host_response_rate</th>\n",
       "      <th>...</th>\n",
       "      <th>review_scores_communication</th>\n",
       "      <th>review_scores_location</th>\n",
       "      <th>review_scores_value</th>\n",
       "      <th>license</th>\n",
       "      <th>instant_bookable</th>\n",
       "      <th>calculated_host_listings_count</th>\n",
       "      <th>calculated_host_listings_count_entire_homes</th>\n",
       "      <th>calculated_host_listings_count_private_rooms</th>\n",
       "      <th>calculated_host_listings_count_shared_rooms</th>\n",
       "      <th>reviews_per_month</th>\n",
       "    </tr>\n",
       "  </thead>\n",
       "  <tbody>\n",
       "    <tr>\n",
       "      <th>0</th>\n",
       "      <td>2595</td>\n",
       "      <td>https://www.airbnb.com/rooms/2595</td>\n",
       "      <td>20211204143024</td>\n",
       "      <td>2021-12-05</td>\n",
       "      <td>https://a0.muscache.com/pictures/f0813a11-40b2...</td>\n",
       "      <td>2845</td>\n",
       "      <td>https://www.airbnb.com/users/show/2845</td>\n",
       "      <td>2008-09-09</td>\n",
       "      <td>within a day</td>\n",
       "      <td>80%</td>\n",
       "      <td>...</td>\n",
       "      <td>4.79</td>\n",
       "      <td>4.86</td>\n",
       "      <td>4.41</td>\n",
       "      <td>NaN</td>\n",
       "      <td>f</td>\n",
       "      <td>3</td>\n",
       "      <td>3</td>\n",
       "      <td>0</td>\n",
       "      <td>0</td>\n",
       "      <td>0.33</td>\n",
       "    </tr>\n",
       "    <tr>\n",
       "      <th>1</th>\n",
       "      <td>3831</td>\n",
       "      <td>https://www.airbnb.com/rooms/3831</td>\n",
       "      <td>20211204143024</td>\n",
       "      <td>2021-12-05</td>\n",
       "      <td>https://a0.muscache.com/pictures/e49999c2-9fd5...</td>\n",
       "      <td>4869</td>\n",
       "      <td>https://www.airbnb.com/users/show/4869</td>\n",
       "      <td>2008-12-07</td>\n",
       "      <td>a few days or more</td>\n",
       "      <td>9%</td>\n",
       "      <td>...</td>\n",
       "      <td>4.80</td>\n",
       "      <td>4.71</td>\n",
       "      <td>4.64</td>\n",
       "      <td>NaN</td>\n",
       "      <td>f</td>\n",
       "      <td>1</td>\n",
       "      <td>1</td>\n",
       "      <td>0</td>\n",
       "      <td>0</td>\n",
       "      <td>4.86</td>\n",
       "    </tr>\n",
       "    <tr>\n",
       "      <th>2</th>\n",
       "      <td>5121</td>\n",
       "      <td>https://www.airbnb.com/rooms/5121</td>\n",
       "      <td>20211204143024</td>\n",
       "      <td>2021-12-05</td>\n",
       "      <td>https://a0.muscache.com/pictures/2090980c-b68e...</td>\n",
       "      <td>7356</td>\n",
       "      <td>https://www.airbnb.com/users/show/7356</td>\n",
       "      <td>2009-02-03</td>\n",
       "      <td>within an hour</td>\n",
       "      <td>100%</td>\n",
       "      <td>...</td>\n",
       "      <td>4.91</td>\n",
       "      <td>4.47</td>\n",
       "      <td>4.52</td>\n",
       "      <td>NaN</td>\n",
       "      <td>f</td>\n",
       "      <td>2</td>\n",
       "      <td>0</td>\n",
       "      <td>2</td>\n",
       "      <td>0</td>\n",
       "      <td>0.52</td>\n",
       "    </tr>\n",
       "    <tr>\n",
       "      <th>3</th>\n",
       "      <td>5136</td>\n",
       "      <td>https://www.airbnb.com/rooms/5136</td>\n",
       "      <td>20211204143024</td>\n",
       "      <td>2021-12-05</td>\n",
       "      <td>https://a0.muscache.com/pictures/miso/Hosting-...</td>\n",
       "      <td>7378</td>\n",
       "      <td>https://www.airbnb.com/users/show/7378</td>\n",
       "      <td>2009-02-03</td>\n",
       "      <td>within a day</td>\n",
       "      <td>100%</td>\n",
       "      <td>...</td>\n",
       "      <td>5.00</td>\n",
       "      <td>4.50</td>\n",
       "      <td>5.00</td>\n",
       "      <td>NaN</td>\n",
       "      <td>f</td>\n",
       "      <td>1</td>\n",
       "      <td>1</td>\n",
       "      <td>0</td>\n",
       "      <td>0</td>\n",
       "      <td>0.02</td>\n",
       "    </tr>\n",
       "    <tr>\n",
       "      <th>4</th>\n",
       "      <td>5178</td>\n",
       "      <td>https://www.airbnb.com/rooms/5178</td>\n",
       "      <td>20211204143024</td>\n",
       "      <td>2021-12-05</td>\n",
       "      <td>https://a0.muscache.com/pictures/12065/f070997...</td>\n",
       "      <td>8967</td>\n",
       "      <td>https://www.airbnb.com/users/show/8967</td>\n",
       "      <td>2009-03-03</td>\n",
       "      <td>within a day</td>\n",
       "      <td>100%</td>\n",
       "      <td>...</td>\n",
       "      <td>4.42</td>\n",
       "      <td>4.87</td>\n",
       "      <td>4.36</td>\n",
       "      <td>NaN</td>\n",
       "      <td>f</td>\n",
       "      <td>1</td>\n",
       "      <td>0</td>\n",
       "      <td>1</td>\n",
       "      <td>0</td>\n",
       "      <td>3.68</td>\n",
       "    </tr>\n",
       "    <tr>\n",
       "      <th>...</th>\n",
       "      <td>...</td>\n",
       "      <td>...</td>\n",
       "      <td>...</td>\n",
       "      <td>...</td>\n",
       "      <td>...</td>\n",
       "      <td>...</td>\n",
       "      <td>...</td>\n",
       "      <td>...</td>\n",
       "      <td>...</td>\n",
       "      <td>...</td>\n",
       "      <td>...</td>\n",
       "      <td>...</td>\n",
       "      <td>...</td>\n",
       "      <td>...</td>\n",
       "      <td>...</td>\n",
       "      <td>...</td>\n",
       "      <td>...</td>\n",
       "      <td>...</td>\n",
       "      <td>...</td>\n",
       "      <td>...</td>\n",
       "      <td>...</td>\n",
       "    </tr>\n",
       "    <tr>\n",
       "      <th>38272</th>\n",
       "      <td>53662330</td>\n",
       "      <td>https://www.airbnb.com/rooms/53662330</td>\n",
       "      <td>20211204143024</td>\n",
       "      <td>2021-12-05</td>\n",
       "      <td>https://a0.muscache.com/pictures/e2d56c2f-259b...</td>\n",
       "      <td>100146245</td>\n",
       "      <td>https://www.airbnb.com/users/show/100146245</td>\n",
       "      <td>2016-10-18</td>\n",
       "      <td>within a few hours</td>\n",
       "      <td>97%</td>\n",
       "      <td>...</td>\n",
       "      <td>NaN</td>\n",
       "      <td>NaN</td>\n",
       "      <td>NaN</td>\n",
       "      <td>NaN</td>\n",
       "      <td>f</td>\n",
       "      <td>6</td>\n",
       "      <td>0</td>\n",
       "      <td>6</td>\n",
       "      <td>0</td>\n",
       "      <td>NaN</td>\n",
       "    </tr>\n",
       "    <tr>\n",
       "      <th>38273</th>\n",
       "      <td>53662542</td>\n",
       "      <td>https://www.airbnb.com/rooms/53662542</td>\n",
       "      <td>20211204143024</td>\n",
       "      <td>2021-12-05</td>\n",
       "      <td>https://a0.muscache.com/pictures/05f218bd-04ff...</td>\n",
       "      <td>100146245</td>\n",
       "      <td>https://www.airbnb.com/users/show/100146245</td>\n",
       "      <td>2016-10-18</td>\n",
       "      <td>within a few hours</td>\n",
       "      <td>97%</td>\n",
       "      <td>...</td>\n",
       "      <td>NaN</td>\n",
       "      <td>NaN</td>\n",
       "      <td>NaN</td>\n",
       "      <td>NaN</td>\n",
       "      <td>f</td>\n",
       "      <td>6</td>\n",
       "      <td>0</td>\n",
       "      <td>6</td>\n",
       "      <td>0</td>\n",
       "      <td>NaN</td>\n",
       "    </tr>\n",
       "    <tr>\n",
       "      <th>38274</th>\n",
       "      <td>53662772</td>\n",
       "      <td>https://www.airbnb.com/rooms/53662772</td>\n",
       "      <td>20211204143024</td>\n",
       "      <td>2021-12-05</td>\n",
       "      <td>https://a0.muscache.com/pictures/b4d3d4bf-cffa...</td>\n",
       "      <td>337879004</td>\n",
       "      <td>https://www.airbnb.com/users/show/337879004</td>\n",
       "      <td>2020-02-21</td>\n",
       "      <td>within an hour</td>\n",
       "      <td>94%</td>\n",
       "      <td>...</td>\n",
       "      <td>NaN</td>\n",
       "      <td>NaN</td>\n",
       "      <td>NaN</td>\n",
       "      <td>NaN</td>\n",
       "      <td>t</td>\n",
       "      <td>13</td>\n",
       "      <td>0</td>\n",
       "      <td>13</td>\n",
       "      <td>0</td>\n",
       "      <td>NaN</td>\n",
       "    </tr>\n",
       "    <tr>\n",
       "      <th>38275</th>\n",
       "      <td>53663081</td>\n",
       "      <td>https://www.airbnb.com/rooms/53663081</td>\n",
       "      <td>20211204143024</td>\n",
       "      <td>2021-12-05</td>\n",
       "      <td>https://a0.muscache.com/pictures/d8b633e3-0d10...</td>\n",
       "      <td>337879004</td>\n",
       "      <td>https://www.airbnb.com/users/show/337879004</td>\n",
       "      <td>2020-02-21</td>\n",
       "      <td>within an hour</td>\n",
       "      <td>94%</td>\n",
       "      <td>...</td>\n",
       "      <td>NaN</td>\n",
       "      <td>NaN</td>\n",
       "      <td>NaN</td>\n",
       "      <td>NaN</td>\n",
       "      <td>t</td>\n",
       "      <td>13</td>\n",
       "      <td>0</td>\n",
       "      <td>13</td>\n",
       "      <td>0</td>\n",
       "      <td>NaN</td>\n",
       "    </tr>\n",
       "    <tr>\n",
       "      <th>38276</th>\n",
       "      <td>53665099</td>\n",
       "      <td>https://www.airbnb.com/rooms/53665099</td>\n",
       "      <td>20211204143024</td>\n",
       "      <td>2021-12-05</td>\n",
       "      <td>https://a0.muscache.com/pictures/prohost-api/H...</td>\n",
       "      <td>60105727</td>\n",
       "      <td>https://www.airbnb.com/users/show/60105727</td>\n",
       "      <td>2016-02-23</td>\n",
       "      <td>within an hour</td>\n",
       "      <td>100%</td>\n",
       "      <td>...</td>\n",
       "      <td>NaN</td>\n",
       "      <td>NaN</td>\n",
       "      <td>NaN</td>\n",
       "      <td>NaN</td>\n",
       "      <td>t</td>\n",
       "      <td>1</td>\n",
       "      <td>1</td>\n",
       "      <td>0</td>\n",
       "      <td>0</td>\n",
       "      <td>NaN</td>\n",
       "    </tr>\n",
       "  </tbody>\n",
       "</table>\n",
       "<p>38277 rows × 68 columns</p>\n",
       "</div>"
      ],
      "text/plain": [
       "             id                            listing_url       scrape_id  \\\n",
       "0          2595      https://www.airbnb.com/rooms/2595  20211204143024   \n",
       "1          3831      https://www.airbnb.com/rooms/3831  20211204143024   \n",
       "2          5121      https://www.airbnb.com/rooms/5121  20211204143024   \n",
       "3          5136      https://www.airbnb.com/rooms/5136  20211204143024   \n",
       "4          5178      https://www.airbnb.com/rooms/5178  20211204143024   \n",
       "...         ...                                    ...             ...   \n",
       "38272  53662330  https://www.airbnb.com/rooms/53662330  20211204143024   \n",
       "38273  53662542  https://www.airbnb.com/rooms/53662542  20211204143024   \n",
       "38274  53662772  https://www.airbnb.com/rooms/53662772  20211204143024   \n",
       "38275  53663081  https://www.airbnb.com/rooms/53663081  20211204143024   \n",
       "38276  53665099  https://www.airbnb.com/rooms/53665099  20211204143024   \n",
       "\n",
       "      last_scraped                                        picture_url  \\\n",
       "0       2021-12-05  https://a0.muscache.com/pictures/f0813a11-40b2...   \n",
       "1       2021-12-05  https://a0.muscache.com/pictures/e49999c2-9fd5...   \n",
       "2       2021-12-05  https://a0.muscache.com/pictures/2090980c-b68e...   \n",
       "3       2021-12-05  https://a0.muscache.com/pictures/miso/Hosting-...   \n",
       "4       2021-12-05  https://a0.muscache.com/pictures/12065/f070997...   \n",
       "...            ...                                                ...   \n",
       "38272   2021-12-05  https://a0.muscache.com/pictures/e2d56c2f-259b...   \n",
       "38273   2021-12-05  https://a0.muscache.com/pictures/05f218bd-04ff...   \n",
       "38274   2021-12-05  https://a0.muscache.com/pictures/b4d3d4bf-cffa...   \n",
       "38275   2021-12-05  https://a0.muscache.com/pictures/d8b633e3-0d10...   \n",
       "38276   2021-12-05  https://a0.muscache.com/pictures/prohost-api/H...   \n",
       "\n",
       "         host_id                                     host_url  host_since  \\\n",
       "0           2845       https://www.airbnb.com/users/show/2845  2008-09-09   \n",
       "1           4869       https://www.airbnb.com/users/show/4869  2008-12-07   \n",
       "2           7356       https://www.airbnb.com/users/show/7356  2009-02-03   \n",
       "3           7378       https://www.airbnb.com/users/show/7378  2009-02-03   \n",
       "4           8967       https://www.airbnb.com/users/show/8967  2009-03-03   \n",
       "...          ...                                          ...         ...   \n",
       "38272  100146245  https://www.airbnb.com/users/show/100146245  2016-10-18   \n",
       "38273  100146245  https://www.airbnb.com/users/show/100146245  2016-10-18   \n",
       "38274  337879004  https://www.airbnb.com/users/show/337879004  2020-02-21   \n",
       "38275  337879004  https://www.airbnb.com/users/show/337879004  2020-02-21   \n",
       "38276   60105727   https://www.airbnb.com/users/show/60105727  2016-02-23   \n",
       "\n",
       "       host_response_time host_response_rate  ... review_scores_communication  \\\n",
       "0            within a day                80%  ...                        4.79   \n",
       "1      a few days or more                 9%  ...                        4.80   \n",
       "2          within an hour               100%  ...                        4.91   \n",
       "3            within a day               100%  ...                        5.00   \n",
       "4            within a day               100%  ...                        4.42   \n",
       "...                   ...                ...  ...                         ...   \n",
       "38272  within a few hours                97%  ...                         NaN   \n",
       "38273  within a few hours                97%  ...                         NaN   \n",
       "38274      within an hour                94%  ...                         NaN   \n",
       "38275      within an hour                94%  ...                         NaN   \n",
       "38276      within an hour               100%  ...                         NaN   \n",
       "\n",
       "      review_scores_location review_scores_value license instant_bookable  \\\n",
       "0                       4.86                4.41     NaN                f   \n",
       "1                       4.71                4.64     NaN                f   \n",
       "2                       4.47                4.52     NaN                f   \n",
       "3                       4.50                5.00     NaN                f   \n",
       "4                       4.87                4.36     NaN                f   \n",
       "...                      ...                 ...     ...              ...   \n",
       "38272                    NaN                 NaN     NaN                f   \n",
       "38273                    NaN                 NaN     NaN                f   \n",
       "38274                    NaN                 NaN     NaN                t   \n",
       "38275                    NaN                 NaN     NaN                t   \n",
       "38276                    NaN                 NaN     NaN                t   \n",
       "\n",
       "       calculated_host_listings_count  \\\n",
       "0                                   3   \n",
       "1                                   1   \n",
       "2                                   2   \n",
       "3                                   1   \n",
       "4                                   1   \n",
       "...                               ...   \n",
       "38272                               6   \n",
       "38273                               6   \n",
       "38274                              13   \n",
       "38275                              13   \n",
       "38276                               1   \n",
       "\n",
       "       calculated_host_listings_count_entire_homes  \\\n",
       "0                                                3   \n",
       "1                                                1   \n",
       "2                                                0   \n",
       "3                                                1   \n",
       "4                                                0   \n",
       "...                                            ...   \n",
       "38272                                            0   \n",
       "38273                                            0   \n",
       "38274                                            0   \n",
       "38275                                            0   \n",
       "38276                                            1   \n",
       "\n",
       "      calculated_host_listings_count_private_rooms  \\\n",
       "0                                                0   \n",
       "1                                                0   \n",
       "2                                                2   \n",
       "3                                                0   \n",
       "4                                                1   \n",
       "...                                            ...   \n",
       "38272                                            6   \n",
       "38273                                            6   \n",
       "38274                                           13   \n",
       "38275                                           13   \n",
       "38276                                            0   \n",
       "\n",
       "      calculated_host_listings_count_shared_rooms reviews_per_month  \n",
       "0                                               0              0.33  \n",
       "1                                               0              4.86  \n",
       "2                                               0              0.52  \n",
       "3                                               0              0.02  \n",
       "4                                               0              3.68  \n",
       "...                                           ...               ...  \n",
       "38272                                           0               NaN  \n",
       "38273                                           0               NaN  \n",
       "38274                                           0               NaN  \n",
       "38275                                           0               NaN  \n",
       "38276                                           0               NaN  \n",
       "\n",
       "[38277 rows x 68 columns]"
      ]
     },
     "execution_count": 10,
     "metadata": {},
     "output_type": "execute_result"
    }
   ],
   "source": [
    "# YOUR CODE HERE\n",
    "\n",
    "df.drop(url_colnames, axis = 1)"
   ]
  },
  {
   "cell_type": "markdown",
   "metadata": {},
   "source": [
    "**Task**: Another property of this dataset is that the `price` column contains values that are listed as <br>$<$currency_name$>$$<$numeric_value$>$. For example, it contains values that look like this: `$120`. <br>\n",
    "\n",
    "Let's look at the first 15 unique values of this column.<br>\n",
    "\n",
    "Display the first 15 unique values of  the `price` column:"
   ]
  },
  {
   "cell_type": "code",
   "execution_count": 11,
   "metadata": {},
   "outputs": [
    {
     "data": {
      "text/plain": [
       "array(['$150.00', '$75.00', '$60.00', '$275.00', '$68.00', '$98.00',\n",
       "       '$89.00', '$65.00', '$62.00', '$90.00', '$199.00', '$96.00',\n",
       "       '$299.00', '$140.00', '$175.00'], dtype=object)"
      ]
     },
     "execution_count": 11,
     "metadata": {},
     "output_type": "execute_result"
    }
   ],
   "source": [
    "# YOUR CODE HERE\n",
    "\n",
    "\n",
    "df['price'].unique()[:15]\n"
   ]
  },
  {
   "cell_type": "markdown",
   "metadata": {},
   "source": [
    "In order for us to use the prices for modeling, we will have to transform all values of this `price` feature into regular floats.<br>\n",
    "We will first need to remove the dollar signs (in this case, the platform forces the currency to be the USD, so we do not need to worry about targeting, say, the Japanese Yen sign, nor about converting the values into USD). Furthermore, we need to remove commas from all values that are in the thousands or above: for example, `$2,500$`. Here is how to do both:"
   ]
  },
  {
   "cell_type": "code",
   "execution_count": 12,
   "metadata": {
    "scrolled": false
   },
   "outputs": [],
   "source": [
    "df['price'] = df['price'].str.replace(',', '')\n",
    "df['price'] = df['price'].str.replace('$', '')\n",
    "df['price'] = df['price'].astype(float)"
   ]
  },
  {
   "cell_type": "markdown",
   "metadata": {},
   "source": [
    "Let's display the first few unique values again, to make sure they are transformed:"
   ]
  },
  {
   "cell_type": "code",
   "execution_count": 13,
   "metadata": {},
   "outputs": [
    {
     "data": {
      "text/plain": [
       "array([150.,  75.,  60., 275.,  68.,  98.,  89.,  65.,  62.,  90., 199.,\n",
       "        96., 299., 140., 175.])"
      ]
     },
     "execution_count": 13,
     "metadata": {},
     "output_type": "execute_result"
    }
   ],
   "source": [
    "df['price'].unique()[:15]"
   ]
  },
  {
   "cell_type": "markdown",
   "metadata": {},
   "source": [
    "Well done! Our transformed dataset looks like this:"
   ]
  },
  {
   "cell_type": "code",
   "execution_count": 14,
   "metadata": {},
   "outputs": [
    {
     "data": {
      "text/html": [
       "<div>\n",
       "<style scoped>\n",
       "    .dataframe tbody tr th:only-of-type {\n",
       "        vertical-align: middle;\n",
       "    }\n",
       "\n",
       "    .dataframe tbody tr th {\n",
       "        vertical-align: top;\n",
       "    }\n",
       "\n",
       "    .dataframe thead th {\n",
       "        text-align: right;\n",
       "    }\n",
       "</style>\n",
       "<table border=\"1\" class=\"dataframe\">\n",
       "  <thead>\n",
       "    <tr style=\"text-align: right;\">\n",
       "      <th></th>\n",
       "      <th>id</th>\n",
       "      <th>listing_url</th>\n",
       "      <th>scrape_id</th>\n",
       "      <th>last_scraped</th>\n",
       "      <th>picture_url</th>\n",
       "      <th>host_id</th>\n",
       "      <th>host_url</th>\n",
       "      <th>host_since</th>\n",
       "      <th>host_response_time</th>\n",
       "      <th>host_response_rate</th>\n",
       "      <th>...</th>\n",
       "      <th>review_scores_communication</th>\n",
       "      <th>review_scores_location</th>\n",
       "      <th>review_scores_value</th>\n",
       "      <th>license</th>\n",
       "      <th>instant_bookable</th>\n",
       "      <th>calculated_host_listings_count</th>\n",
       "      <th>calculated_host_listings_count_entire_homes</th>\n",
       "      <th>calculated_host_listings_count_private_rooms</th>\n",
       "      <th>calculated_host_listings_count_shared_rooms</th>\n",
       "      <th>reviews_per_month</th>\n",
       "    </tr>\n",
       "  </thead>\n",
       "  <tbody>\n",
       "    <tr>\n",
       "      <th>0</th>\n",
       "      <td>2595</td>\n",
       "      <td>https://www.airbnb.com/rooms/2595</td>\n",
       "      <td>20211204143024</td>\n",
       "      <td>2021-12-05</td>\n",
       "      <td>https://a0.muscache.com/pictures/f0813a11-40b2...</td>\n",
       "      <td>2845</td>\n",
       "      <td>https://www.airbnb.com/users/show/2845</td>\n",
       "      <td>2008-09-09</td>\n",
       "      <td>within a day</td>\n",
       "      <td>80%</td>\n",
       "      <td>...</td>\n",
       "      <td>4.79</td>\n",
       "      <td>4.86</td>\n",
       "      <td>4.41</td>\n",
       "      <td>NaN</td>\n",
       "      <td>f</td>\n",
       "      <td>3</td>\n",
       "      <td>3</td>\n",
       "      <td>0</td>\n",
       "      <td>0</td>\n",
       "      <td>0.33</td>\n",
       "    </tr>\n",
       "    <tr>\n",
       "      <th>1</th>\n",
       "      <td>3831</td>\n",
       "      <td>https://www.airbnb.com/rooms/3831</td>\n",
       "      <td>20211204143024</td>\n",
       "      <td>2021-12-05</td>\n",
       "      <td>https://a0.muscache.com/pictures/e49999c2-9fd5...</td>\n",
       "      <td>4869</td>\n",
       "      <td>https://www.airbnb.com/users/show/4869</td>\n",
       "      <td>2008-12-07</td>\n",
       "      <td>a few days or more</td>\n",
       "      <td>9%</td>\n",
       "      <td>...</td>\n",
       "      <td>4.80</td>\n",
       "      <td>4.71</td>\n",
       "      <td>4.64</td>\n",
       "      <td>NaN</td>\n",
       "      <td>f</td>\n",
       "      <td>1</td>\n",
       "      <td>1</td>\n",
       "      <td>0</td>\n",
       "      <td>0</td>\n",
       "      <td>4.86</td>\n",
       "    </tr>\n",
       "    <tr>\n",
       "      <th>2</th>\n",
       "      <td>5121</td>\n",
       "      <td>https://www.airbnb.com/rooms/5121</td>\n",
       "      <td>20211204143024</td>\n",
       "      <td>2021-12-05</td>\n",
       "      <td>https://a0.muscache.com/pictures/2090980c-b68e...</td>\n",
       "      <td>7356</td>\n",
       "      <td>https://www.airbnb.com/users/show/7356</td>\n",
       "      <td>2009-02-03</td>\n",
       "      <td>within an hour</td>\n",
       "      <td>100%</td>\n",
       "      <td>...</td>\n",
       "      <td>4.91</td>\n",
       "      <td>4.47</td>\n",
       "      <td>4.52</td>\n",
       "      <td>NaN</td>\n",
       "      <td>f</td>\n",
       "      <td>2</td>\n",
       "      <td>0</td>\n",
       "      <td>2</td>\n",
       "      <td>0</td>\n",
       "      <td>0.52</td>\n",
       "    </tr>\n",
       "    <tr>\n",
       "      <th>3</th>\n",
       "      <td>5136</td>\n",
       "      <td>https://www.airbnb.com/rooms/5136</td>\n",
       "      <td>20211204143024</td>\n",
       "      <td>2021-12-05</td>\n",
       "      <td>https://a0.muscache.com/pictures/miso/Hosting-...</td>\n",
       "      <td>7378</td>\n",
       "      <td>https://www.airbnb.com/users/show/7378</td>\n",
       "      <td>2009-02-03</td>\n",
       "      <td>within a day</td>\n",
       "      <td>100%</td>\n",
       "      <td>...</td>\n",
       "      <td>5.00</td>\n",
       "      <td>4.50</td>\n",
       "      <td>5.00</td>\n",
       "      <td>NaN</td>\n",
       "      <td>f</td>\n",
       "      <td>1</td>\n",
       "      <td>1</td>\n",
       "      <td>0</td>\n",
       "      <td>0</td>\n",
       "      <td>0.02</td>\n",
       "    </tr>\n",
       "    <tr>\n",
       "      <th>4</th>\n",
       "      <td>5178</td>\n",
       "      <td>https://www.airbnb.com/rooms/5178</td>\n",
       "      <td>20211204143024</td>\n",
       "      <td>2021-12-05</td>\n",
       "      <td>https://a0.muscache.com/pictures/12065/f070997...</td>\n",
       "      <td>8967</td>\n",
       "      <td>https://www.airbnb.com/users/show/8967</td>\n",
       "      <td>2009-03-03</td>\n",
       "      <td>within a day</td>\n",
       "      <td>100%</td>\n",
       "      <td>...</td>\n",
       "      <td>4.42</td>\n",
       "      <td>4.87</td>\n",
       "      <td>4.36</td>\n",
       "      <td>NaN</td>\n",
       "      <td>f</td>\n",
       "      <td>1</td>\n",
       "      <td>0</td>\n",
       "      <td>1</td>\n",
       "      <td>0</td>\n",
       "      <td>3.68</td>\n",
       "    </tr>\n",
       "  </tbody>\n",
       "</table>\n",
       "<p>5 rows × 68 columns</p>\n",
       "</div>"
      ],
      "text/plain": [
       "     id                        listing_url       scrape_id last_scraped  \\\n",
       "0  2595  https://www.airbnb.com/rooms/2595  20211204143024   2021-12-05   \n",
       "1  3831  https://www.airbnb.com/rooms/3831  20211204143024   2021-12-05   \n",
       "2  5121  https://www.airbnb.com/rooms/5121  20211204143024   2021-12-05   \n",
       "3  5136  https://www.airbnb.com/rooms/5136  20211204143024   2021-12-05   \n",
       "4  5178  https://www.airbnb.com/rooms/5178  20211204143024   2021-12-05   \n",
       "\n",
       "                                         picture_url  host_id  \\\n",
       "0  https://a0.muscache.com/pictures/f0813a11-40b2...     2845   \n",
       "1  https://a0.muscache.com/pictures/e49999c2-9fd5...     4869   \n",
       "2  https://a0.muscache.com/pictures/2090980c-b68e...     7356   \n",
       "3  https://a0.muscache.com/pictures/miso/Hosting-...     7378   \n",
       "4  https://a0.muscache.com/pictures/12065/f070997...     8967   \n",
       "\n",
       "                                 host_url  host_since  host_response_time  \\\n",
       "0  https://www.airbnb.com/users/show/2845  2008-09-09        within a day   \n",
       "1  https://www.airbnb.com/users/show/4869  2008-12-07  a few days or more   \n",
       "2  https://www.airbnb.com/users/show/7356  2009-02-03      within an hour   \n",
       "3  https://www.airbnb.com/users/show/7378  2009-02-03        within a day   \n",
       "4  https://www.airbnb.com/users/show/8967  2009-03-03        within a day   \n",
       "\n",
       "  host_response_rate  ... review_scores_communication review_scores_location  \\\n",
       "0                80%  ...                        4.79                   4.86   \n",
       "1                 9%  ...                        4.80                   4.71   \n",
       "2               100%  ...                        4.91                   4.47   \n",
       "3               100%  ...                        5.00                   4.50   \n",
       "4               100%  ...                        4.42                   4.87   \n",
       "\n",
       "  review_scores_value license instant_bookable  \\\n",
       "0                4.41     NaN                f   \n",
       "1                4.64     NaN                f   \n",
       "2                4.52     NaN                f   \n",
       "3                5.00     NaN                f   \n",
       "4                4.36     NaN                f   \n",
       "\n",
       "   calculated_host_listings_count  \\\n",
       "0                               3   \n",
       "1                               1   \n",
       "2                               2   \n",
       "3                               1   \n",
       "4                               1   \n",
       "\n",
       "   calculated_host_listings_count_entire_homes  \\\n",
       "0                                            3   \n",
       "1                                            1   \n",
       "2                                            0   \n",
       "3                                            1   \n",
       "4                                            0   \n",
       "\n",
       "  calculated_host_listings_count_private_rooms  \\\n",
       "0                                            0   \n",
       "1                                            0   \n",
       "2                                            2   \n",
       "3                                            0   \n",
       "4                                            1   \n",
       "\n",
       "  calculated_host_listings_count_shared_rooms reviews_per_month  \n",
       "0                                           0              0.33  \n",
       "1                                           0              4.86  \n",
       "2                                           0              0.52  \n",
       "3                                           0              0.02  \n",
       "4                                           0              3.68  \n",
       "\n",
       "[5 rows x 68 columns]"
      ]
     },
     "execution_count": 14,
     "metadata": {},
     "output_type": "execute_result"
    }
   ],
   "source": [
    "df.head()"
   ]
  },
  {
   "cell_type": "markdown",
   "metadata": {
    "collapsed": true
   },
   "source": [
    "## Part 3. Create a (Winsorized) Label Column"
   ]
  },
  {
   "cell_type": "markdown",
   "metadata": {},
   "source": [
    "Assume that your goal is to use this dataset to fit a regression model that predicts the price under which a given space is listed."
   ]
  },
  {
   "cell_type": "markdown",
   "metadata": {},
   "source": [
    "**Task**: Create a new version of the `price` column, named `label_price`, in which we replace the top and bottom 1% outlier values with the corresponding percentile value. Add this new column to the DataFrame `df`."
   ]
  },
  {
   "cell_type": "markdown",
   "metadata": {},
   "source": [
    "Remember, you will first need to load the `stats` module from the `scipy` package:"
   ]
  },
  {
   "cell_type": "code",
   "execution_count": 40,
   "metadata": {},
   "outputs": [],
   "source": [
    "# YOUR CODE HERE - import the necessary package\n",
    "import scipy.stats as stats"
   ]
  },
  {
   "cell_type": "code",
   "execution_count": 41,
   "metadata": {},
   "outputs": [
    {
     "name": "stdout",
     "output_type": "stream",
     "text": [
      "             id                            listing_url       scrape_id  \\\n",
      "0          2595      https://www.airbnb.com/rooms/2595  20211204143024   \n",
      "1          3831      https://www.airbnb.com/rooms/3831  20211204143024   \n",
      "2          5121      https://www.airbnb.com/rooms/5121  20211204143024   \n",
      "3          5136      https://www.airbnb.com/rooms/5136  20211204143024   \n",
      "4          5178      https://www.airbnb.com/rooms/5178  20211204143024   \n",
      "...         ...                                    ...             ...   \n",
      "38272  53662330  https://www.airbnb.com/rooms/53662330  20211204143024   \n",
      "38273  53662542  https://www.airbnb.com/rooms/53662542  20211204143024   \n",
      "38274  53662772  https://www.airbnb.com/rooms/53662772  20211204143024   \n",
      "38275  53663081  https://www.airbnb.com/rooms/53663081  20211204143024   \n",
      "38276  53665099  https://www.airbnb.com/rooms/53665099  20211204143024   \n",
      "\n",
      "      last_scraped                                        picture_url  \\\n",
      "0       2021-12-05  https://a0.muscache.com/pictures/f0813a11-40b2...   \n",
      "1       2021-12-05  https://a0.muscache.com/pictures/e49999c2-9fd5...   \n",
      "2       2021-12-05  https://a0.muscache.com/pictures/2090980c-b68e...   \n",
      "3       2021-12-05  https://a0.muscache.com/pictures/miso/Hosting-...   \n",
      "4       2021-12-05  https://a0.muscache.com/pictures/12065/f070997...   \n",
      "...            ...                                                ...   \n",
      "38272   2021-12-05  https://a0.muscache.com/pictures/e2d56c2f-259b...   \n",
      "38273   2021-12-05  https://a0.muscache.com/pictures/05f218bd-04ff...   \n",
      "38274   2021-12-05  https://a0.muscache.com/pictures/b4d3d4bf-cffa...   \n",
      "38275   2021-12-05  https://a0.muscache.com/pictures/d8b633e3-0d10...   \n",
      "38276   2021-12-05  https://a0.muscache.com/pictures/prohost-api/H...   \n",
      "\n",
      "         host_id                                     host_url  host_since  \\\n",
      "0           2845       https://www.airbnb.com/users/show/2845  2008-09-09   \n",
      "1           4869       https://www.airbnb.com/users/show/4869  2008-12-07   \n",
      "2           7356       https://www.airbnb.com/users/show/7356  2009-02-03   \n",
      "3           7378       https://www.airbnb.com/users/show/7378  2009-02-03   \n",
      "4           8967       https://www.airbnb.com/users/show/8967  2009-03-03   \n",
      "...          ...                                          ...         ...   \n",
      "38272  100146245  https://www.airbnb.com/users/show/100146245  2016-10-18   \n",
      "38273  100146245  https://www.airbnb.com/users/show/100146245  2016-10-18   \n",
      "38274  337879004  https://www.airbnb.com/users/show/337879004  2020-02-21   \n",
      "38275  337879004  https://www.airbnb.com/users/show/337879004  2020-02-21   \n",
      "38276   60105727   https://www.airbnb.com/users/show/60105727  2016-02-23   \n",
      "\n",
      "       host_response_time host_response_rate  ... review_scores_location  \\\n",
      "0            within a day                80%  ...                   4.86   \n",
      "1      a few days or more                 9%  ...                   4.71   \n",
      "2          within an hour               100%  ...                   4.47   \n",
      "3            within a day               100%  ...                   4.50   \n",
      "4            within a day               100%  ...                   4.87   \n",
      "...                   ...                ...  ...                    ...   \n",
      "38272  within a few hours                97%  ...                    NaN   \n",
      "38273  within a few hours                97%  ...                    NaN   \n",
      "38274      within an hour                94%  ...                    NaN   \n",
      "38275      within an hour                94%  ...                    NaN   \n",
      "38276      within an hour               100%  ...                    NaN   \n",
      "\n",
      "      review_scores_value license instant_bookable  \\\n",
      "0                    4.41     NaN                f   \n",
      "1                    4.64     NaN                f   \n",
      "2                    4.52     NaN                f   \n",
      "3                    5.00     NaN                f   \n",
      "4                    4.36     NaN                f   \n",
      "...                   ...     ...              ...   \n",
      "38272                 NaN     NaN                f   \n",
      "38273                 NaN     NaN                f   \n",
      "38274                 NaN     NaN                t   \n",
      "38275                 NaN     NaN                t   \n",
      "38276                 NaN     NaN                t   \n",
      "\n",
      "      calculated_host_listings_count  \\\n",
      "0                                  3   \n",
      "1                                  1   \n",
      "2                                  2   \n",
      "3                                  1   \n",
      "4                                  1   \n",
      "...                              ...   \n",
      "38272                              6   \n",
      "38273                              6   \n",
      "38274                             13   \n",
      "38275                             13   \n",
      "38276                              1   \n",
      "\n",
      "       calculated_host_listings_count_entire_homes  \\\n",
      "0                                                3   \n",
      "1                                                1   \n",
      "2                                                0   \n",
      "3                                                1   \n",
      "4                                                0   \n",
      "...                                            ...   \n",
      "38272                                            0   \n",
      "38273                                            0   \n",
      "38274                                            0   \n",
      "38275                                            0   \n",
      "38276                                            1   \n",
      "\n",
      "       calculated_host_listings_count_private_rooms  \\\n",
      "0                                                 0   \n",
      "1                                                 0   \n",
      "2                                                 2   \n",
      "3                                                 0   \n",
      "4                                                 1   \n",
      "...                                             ...   \n",
      "38272                                             6   \n",
      "38273                                             6   \n",
      "38274                                            13   \n",
      "38275                                            13   \n",
      "38276                                             0   \n",
      "\n",
      "      calculated_host_listings_count_shared_rooms reviews_per_month  \\\n",
      "0                                               0              0.33   \n",
      "1                                               0              4.86   \n",
      "2                                               0              0.52   \n",
      "3                                               0              0.02   \n",
      "4                                               0              3.68   \n",
      "...                                           ...               ...   \n",
      "38272                                           0               NaN   \n",
      "38273                                           0               NaN   \n",
      "38274                                           0               NaN   \n",
      "38275                                           0               NaN   \n",
      "38276                                           0               NaN   \n",
      "\n",
      "      label_price  \n",
      "0           150.0  \n",
      "1            75.0  \n",
      "2            60.0  \n",
      "3           275.0  \n",
      "4            68.0  \n",
      "...           ...  \n",
      "38272        79.0  \n",
      "38273        76.0  \n",
      "38274       116.0  \n",
      "38275       106.0  \n",
      "38276       689.0  \n",
      "\n",
      "[38277 rows x 69 columns]\n"
     ]
    }
   ],
   "source": [
    "# YOUR CODE HERE  - add the new column to the DataFrame\n",
    "\n",
    "df['label_price'] = stats.mstats.winsorize(df['price'], limits=[0.01, 0.01]) \n",
    "\n",
    "print(df)\n",
    "\n",
    "\n"
   ]
  },
  {
   "cell_type": "markdown",
   "metadata": {},
   "source": [
    "Let's verify that a new column got added to the DataFrame:"
   ]
  },
  {
   "cell_type": "code",
   "execution_count": 42,
   "metadata": {},
   "outputs": [
    {
     "data": {
      "text/html": [
       "<div>\n",
       "<style scoped>\n",
       "    .dataframe tbody tr th:only-of-type {\n",
       "        vertical-align: middle;\n",
       "    }\n",
       "\n",
       "    .dataframe tbody tr th {\n",
       "        vertical-align: top;\n",
       "    }\n",
       "\n",
       "    .dataframe thead th {\n",
       "        text-align: right;\n",
       "    }\n",
       "</style>\n",
       "<table border=\"1\" class=\"dataframe\">\n",
       "  <thead>\n",
       "    <tr style=\"text-align: right;\">\n",
       "      <th></th>\n",
       "      <th>id</th>\n",
       "      <th>listing_url</th>\n",
       "      <th>scrape_id</th>\n",
       "      <th>last_scraped</th>\n",
       "      <th>picture_url</th>\n",
       "      <th>host_id</th>\n",
       "      <th>host_url</th>\n",
       "      <th>host_since</th>\n",
       "      <th>host_response_time</th>\n",
       "      <th>host_response_rate</th>\n",
       "      <th>...</th>\n",
       "      <th>review_scores_location</th>\n",
       "      <th>review_scores_value</th>\n",
       "      <th>license</th>\n",
       "      <th>instant_bookable</th>\n",
       "      <th>calculated_host_listings_count</th>\n",
       "      <th>calculated_host_listings_count_entire_homes</th>\n",
       "      <th>calculated_host_listings_count_private_rooms</th>\n",
       "      <th>calculated_host_listings_count_shared_rooms</th>\n",
       "      <th>reviews_per_month</th>\n",
       "      <th>label_price</th>\n",
       "    </tr>\n",
       "  </thead>\n",
       "  <tbody>\n",
       "    <tr>\n",
       "      <th>0</th>\n",
       "      <td>2595</td>\n",
       "      <td>https://www.airbnb.com/rooms/2595</td>\n",
       "      <td>20211204143024</td>\n",
       "      <td>2021-12-05</td>\n",
       "      <td>https://a0.muscache.com/pictures/f0813a11-40b2...</td>\n",
       "      <td>2845</td>\n",
       "      <td>https://www.airbnb.com/users/show/2845</td>\n",
       "      <td>2008-09-09</td>\n",
       "      <td>within a day</td>\n",
       "      <td>80%</td>\n",
       "      <td>...</td>\n",
       "      <td>4.86</td>\n",
       "      <td>4.41</td>\n",
       "      <td>NaN</td>\n",
       "      <td>f</td>\n",
       "      <td>3</td>\n",
       "      <td>3</td>\n",
       "      <td>0</td>\n",
       "      <td>0</td>\n",
       "      <td>0.33</td>\n",
       "      <td>150.0</td>\n",
       "    </tr>\n",
       "    <tr>\n",
       "      <th>1</th>\n",
       "      <td>3831</td>\n",
       "      <td>https://www.airbnb.com/rooms/3831</td>\n",
       "      <td>20211204143024</td>\n",
       "      <td>2021-12-05</td>\n",
       "      <td>https://a0.muscache.com/pictures/e49999c2-9fd5...</td>\n",
       "      <td>4869</td>\n",
       "      <td>https://www.airbnb.com/users/show/4869</td>\n",
       "      <td>2008-12-07</td>\n",
       "      <td>a few days or more</td>\n",
       "      <td>9%</td>\n",
       "      <td>...</td>\n",
       "      <td>4.71</td>\n",
       "      <td>4.64</td>\n",
       "      <td>NaN</td>\n",
       "      <td>f</td>\n",
       "      <td>1</td>\n",
       "      <td>1</td>\n",
       "      <td>0</td>\n",
       "      <td>0</td>\n",
       "      <td>4.86</td>\n",
       "      <td>75.0</td>\n",
       "    </tr>\n",
       "    <tr>\n",
       "      <th>2</th>\n",
       "      <td>5121</td>\n",
       "      <td>https://www.airbnb.com/rooms/5121</td>\n",
       "      <td>20211204143024</td>\n",
       "      <td>2021-12-05</td>\n",
       "      <td>https://a0.muscache.com/pictures/2090980c-b68e...</td>\n",
       "      <td>7356</td>\n",
       "      <td>https://www.airbnb.com/users/show/7356</td>\n",
       "      <td>2009-02-03</td>\n",
       "      <td>within an hour</td>\n",
       "      <td>100%</td>\n",
       "      <td>...</td>\n",
       "      <td>4.47</td>\n",
       "      <td>4.52</td>\n",
       "      <td>NaN</td>\n",
       "      <td>f</td>\n",
       "      <td>2</td>\n",
       "      <td>0</td>\n",
       "      <td>2</td>\n",
       "      <td>0</td>\n",
       "      <td>0.52</td>\n",
       "      <td>60.0</td>\n",
       "    </tr>\n",
       "    <tr>\n",
       "      <th>3</th>\n",
       "      <td>5136</td>\n",
       "      <td>https://www.airbnb.com/rooms/5136</td>\n",
       "      <td>20211204143024</td>\n",
       "      <td>2021-12-05</td>\n",
       "      <td>https://a0.muscache.com/pictures/miso/Hosting-...</td>\n",
       "      <td>7378</td>\n",
       "      <td>https://www.airbnb.com/users/show/7378</td>\n",
       "      <td>2009-02-03</td>\n",
       "      <td>within a day</td>\n",
       "      <td>100%</td>\n",
       "      <td>...</td>\n",
       "      <td>4.50</td>\n",
       "      <td>5.00</td>\n",
       "      <td>NaN</td>\n",
       "      <td>f</td>\n",
       "      <td>1</td>\n",
       "      <td>1</td>\n",
       "      <td>0</td>\n",
       "      <td>0</td>\n",
       "      <td>0.02</td>\n",
       "      <td>275.0</td>\n",
       "    </tr>\n",
       "    <tr>\n",
       "      <th>4</th>\n",
       "      <td>5178</td>\n",
       "      <td>https://www.airbnb.com/rooms/5178</td>\n",
       "      <td>20211204143024</td>\n",
       "      <td>2021-12-05</td>\n",
       "      <td>https://a0.muscache.com/pictures/12065/f070997...</td>\n",
       "      <td>8967</td>\n",
       "      <td>https://www.airbnb.com/users/show/8967</td>\n",
       "      <td>2009-03-03</td>\n",
       "      <td>within a day</td>\n",
       "      <td>100%</td>\n",
       "      <td>...</td>\n",
       "      <td>4.87</td>\n",
       "      <td>4.36</td>\n",
       "      <td>NaN</td>\n",
       "      <td>f</td>\n",
       "      <td>1</td>\n",
       "      <td>0</td>\n",
       "      <td>1</td>\n",
       "      <td>0</td>\n",
       "      <td>3.68</td>\n",
       "      <td>68.0</td>\n",
       "    </tr>\n",
       "  </tbody>\n",
       "</table>\n",
       "<p>5 rows × 69 columns</p>\n",
       "</div>"
      ],
      "text/plain": [
       "     id                        listing_url       scrape_id last_scraped  \\\n",
       "0  2595  https://www.airbnb.com/rooms/2595  20211204143024   2021-12-05   \n",
       "1  3831  https://www.airbnb.com/rooms/3831  20211204143024   2021-12-05   \n",
       "2  5121  https://www.airbnb.com/rooms/5121  20211204143024   2021-12-05   \n",
       "3  5136  https://www.airbnb.com/rooms/5136  20211204143024   2021-12-05   \n",
       "4  5178  https://www.airbnb.com/rooms/5178  20211204143024   2021-12-05   \n",
       "\n",
       "                                         picture_url  host_id  \\\n",
       "0  https://a0.muscache.com/pictures/f0813a11-40b2...     2845   \n",
       "1  https://a0.muscache.com/pictures/e49999c2-9fd5...     4869   \n",
       "2  https://a0.muscache.com/pictures/2090980c-b68e...     7356   \n",
       "3  https://a0.muscache.com/pictures/miso/Hosting-...     7378   \n",
       "4  https://a0.muscache.com/pictures/12065/f070997...     8967   \n",
       "\n",
       "                                 host_url  host_since  host_response_time  \\\n",
       "0  https://www.airbnb.com/users/show/2845  2008-09-09        within a day   \n",
       "1  https://www.airbnb.com/users/show/4869  2008-12-07  a few days or more   \n",
       "2  https://www.airbnb.com/users/show/7356  2009-02-03      within an hour   \n",
       "3  https://www.airbnb.com/users/show/7378  2009-02-03        within a day   \n",
       "4  https://www.airbnb.com/users/show/8967  2009-03-03        within a day   \n",
       "\n",
       "  host_response_rate  ... review_scores_location review_scores_value license  \\\n",
       "0                80%  ...                   4.86                4.41     NaN   \n",
       "1                 9%  ...                   4.71                4.64     NaN   \n",
       "2               100%  ...                   4.47                4.52     NaN   \n",
       "3               100%  ...                   4.50                5.00     NaN   \n",
       "4               100%  ...                   4.87                4.36     NaN   \n",
       "\n",
       "  instant_bookable calculated_host_listings_count  \\\n",
       "0                f                              3   \n",
       "1                f                              1   \n",
       "2                f                              2   \n",
       "3                f                              1   \n",
       "4                f                              1   \n",
       "\n",
       "   calculated_host_listings_count_entire_homes  \\\n",
       "0                                            3   \n",
       "1                                            1   \n",
       "2                                            0   \n",
       "3                                            1   \n",
       "4                                            0   \n",
       "\n",
       "   calculated_host_listings_count_private_rooms  \\\n",
       "0                                             0   \n",
       "1                                             0   \n",
       "2                                             2   \n",
       "3                                             0   \n",
       "4                                             1   \n",
       "\n",
       "  calculated_host_listings_count_shared_rooms reviews_per_month label_price  \n",
       "0                                           0              0.33       150.0  \n",
       "1                                           0              4.86        75.0  \n",
       "2                                           0              0.52        60.0  \n",
       "3                                           0              0.02       275.0  \n",
       "4                                           0              3.68        68.0  \n",
       "\n",
       "[5 rows x 69 columns]"
      ]
     },
     "execution_count": 42,
     "metadata": {},
     "output_type": "execute_result"
    }
   ],
   "source": [
    "df.head()"
   ]
  },
  {
   "cell_type": "markdown",
   "metadata": {},
   "source": [
    "**Task**: Check that the values of `price` and `label_price` are *not* identical. Do this by subtracting the two columns and printing the *length* of the array (using the `len()` function) of *unique values* of the resulting difference. <br>Note: If all values are identical, the difference would contain only one unique value -- zero. If this is the case, outlier removal did not work."
   ]
  },
  {
   "cell_type": "code",
   "execution_count": 45,
   "metadata": {},
   "outputs": [
    {
     "name": "stdout",
     "output_type": "stream",
     "text": [
      "Outlier removal worked. Values are not identical.\n"
     ]
    }
   ],
   "source": [
    "\n",
    "data = pd.DataFrame({'price': [], 'label_price': []})\n",
    "\n",
    "\n",
    "difference = data['price'] - data['label_price']\n",
    "\n",
    "num_unique_values = len(difference.unique())\n",
    "\n",
    "\n",
    "if num_unique_values == 1 and difference.unique()[0] == 0:\n",
    "    print(\"Outlier removal did not work. All values are identical.\")\n",
    "else:\n",
    "    print(\"Outlier removal worked. Values are not identical.\")\n",
    "\n",
    "\n",
    "\n",
    "\n",
    "\n",
    "\n"
   ]
  },
  {
   "cell_type": "markdown",
   "metadata": {},
   "source": [
    "## Part 4. Replace the Missing Values With Means"
   ]
  },
  {
   "cell_type": "markdown",
   "metadata": {},
   "source": [
    "### a. Identifying missingness"
   ]
  },
  {
   "cell_type": "markdown",
   "metadata": {},
   "source": [
    "**Task**: Check if a given value in any data cell is missing, and sum up the resulting values (`True`/`False`) by columns. Save this sum to variable `nan_count`. Print the results."
   ]
  },
  {
   "cell_type": "code",
   "execution_count": null,
   "metadata": {},
   "outputs": [],
   "source": [
    "nan_count = np.sum(df.isnull())\n",
    "#nan_count\n",
    "df.isnull()"
   ]
  },
  {
   "cell_type": "markdown",
   "metadata": {},
   "source": [
    "Those are more columns than we can eyeball! For this exercise, we don't care about the number of missing values -- we just want to get a list of columns that have *any*. <br>\n",
    "\n",
    "<b>Task</b>: From variable `nan_count`, create a new series called `nan_detected` that contains `True`/`False` values that indicate whether the number of missing values is *not zero*:"
   ]
  },
  {
   "cell_type": "code",
   "execution_count": null,
   "metadata": {},
   "outputs": [],
   "source": [
    "nan_detected = df.isnull().any()\n",
    "print(nan_detected)\n",
    "\n"
   ]
  },
  {
   "cell_type": "markdown",
   "metadata": {},
   "source": [
    "Since replacing the missing values with the mean only makes sense for the numerically valued columns (and not for strings, for example), let us create another condition: the *type* of the column must be `int` or `float`."
   ]
  },
  {
   "cell_type": "markdown",
   "metadata": {},
   "source": [
    "**Task**: Create a series that contains `True` if the type of the column is either `int64` or `float64`. Save the result to variable `is_int_or_float`."
   ]
  },
  {
   "cell_type": "code",
   "execution_count": null,
   "metadata": {
    "scrolled": true
   },
   "outputs": [],
   "source": [
    "is_int_or_float = df.dtypes.isin([int, float])\n",
    "print(is_int_or_float)\n",
    "\n",
    "\n"
   ]
  },
  {
   "cell_type": "markdown",
   "metadata": {},
   "source": [
    "<b>Task</b>: Combine the two binary series values into a new series named `to_impute`. It will contain the value `True` if a column contains missing values *and* is of type 'int' or 'float'"
   ]
  },
  {
   "cell_type": "code",
   "execution_count": null,
   "metadata": {},
   "outputs": [],
   "source": [
    "to_impute = nan_detected & is_int_or_float\n",
    "print(to_impute)\n",
    "\n"
   ]
  },
  {
   "cell_type": "markdown",
   "metadata": {},
   "source": [
    "Finally, let's display a list that contains just the selected column names:"
   ]
  },
  {
   "cell_type": "code",
   "execution_count": null,
   "metadata": {},
   "outputs": [],
   "source": [
    "df.columns[to_impute]"
   ]
  },
  {
   "cell_type": "markdown",
   "metadata": {},
   "source": [
    "We just identified and displayed the list of candidate columns for potentially replacing missing values with the column mean."
   ]
  },
  {
   "cell_type": "markdown",
   "metadata": {},
   "source": [
    "Assume that you have decided that it is safe to impute the values for `host_listings_count`, `host_total_listings_count`, `bathrooms`, `bedrooms`, and `beds`:"
   ]
  },
  {
   "cell_type": "code",
   "execution_count": null,
   "metadata": {},
   "outputs": [],
   "source": [
    "to_impute_selected = ['host_listings_count', 'host_total_listings_count', 'bathrooms',\n",
    "       'bedrooms', 'beds']"
   ]
  },
  {
   "cell_type": "markdown",
   "metadata": {},
   "source": [
    "### b. Keeping record of the missingness: creating dummy variables "
   ]
  },
  {
   "cell_type": "markdown",
   "metadata": {},
   "source": [
    "As a first step, you will now create dummy variables indicating missingness of the values."
   ]
  },
  {
   "cell_type": "markdown",
   "metadata": {},
   "source": [
    "**Task**: Store the `True`/`False` series that indicate missingness of any value in a given column as a new variable called<br> `<original-column-name>_na`. "
   ]
  },
  {
   "cell_type": "code",
   "execution_count": null,
   "metadata": {},
   "outputs": [],
   "source": [
    "for colname in to_impute_selected:\n",
    "    # YOUR CODE HERE:\n",
    "    df[f\"{colname}_na\"] = df[colname].isnull()\n",
    "\n",
    "print(df)\n",
    "\n"
   ]
  },
  {
   "cell_type": "markdown",
   "metadata": {},
   "source": [
    "Check that the DataFrame contains the new variables:"
   ]
  },
  {
   "cell_type": "code",
   "execution_count": null,
   "metadata": {},
   "outputs": [],
   "source": [
    "df.head()"
   ]
  },
  {
   "cell_type": "markdown",
   "metadata": {},
   "source": [
    "### c. Replacing the missing values with mean values of the column"
   ]
  },
  {
   "cell_type": "markdown",
   "metadata": {},
   "source": [
    "**Task**: Fill the missing values of the selected few columns with the corresponding mean value."
   ]
  },
  {
   "cell_type": "code",
   "execution_count": null,
   "metadata": {},
   "outputs": [],
   "source": [
    "# YOUR CODE HERE\n",
    "\n",
    "for colname in to_impute_selected:\n",
    "    mean_value = df[colname].mean()\n",
    "    \n",
    "    df[colname].fillna(mean_value, inplace=True)\n",
    "\n"
   ]
  },
  {
   "cell_type": "markdown",
   "metadata": {},
   "source": [
    "Check your results below. The code displays the count of missing values for each of the selected columns. "
   ]
  },
  {
   "cell_type": "code",
   "execution_count": null,
   "metadata": {},
   "outputs": [],
   "source": [
    "for colname in to_impute_selected:\n",
    "    print(\"{} missing values count :{}\".format(colname, np.sum(df[colname].isnull(), axis = 0)))\n"
   ]
  },
  {
   "cell_type": "markdown",
   "metadata": {},
   "source": [
    "Why did the `bathrooms` column retain missing values after our imputation?"
   ]
  },
  {
   "cell_type": "markdown",
   "metadata": {},
   "source": [
    "**Task**: List the unique values of the `bathrooms` column."
   ]
  },
  {
   "cell_type": "code",
   "execution_count": null,
   "metadata": {},
   "outputs": [],
   "source": [
    "# YOUR CODE HERE\n",
    "\n",
    "unique_bathrooms = df['bathrooms'].unique()\n",
    "\n",
    "print(unique_bathrooms)\n"
   ]
  },
  {
   "cell_type": "markdown",
   "metadata": {},
   "source": [
    "The column did not contain a single value (except the `NaN` indicator) to begin with."
   ]
  },
  {
   "cell_type": "markdown",
   "metadata": {},
   "source": [
    "## Part 5. Identify Features With the Highest Correlation With the Label"
   ]
  },
  {
   "cell_type": "markdown",
   "metadata": {},
   "source": [
    "Your next goal is to figure out which features in the data correlate most with the label.<br>\n",
    "\n",
    "In the next few cells, we will demonstrate how to use the Pandas `corr()` method to get a list of correlation coefficients between `label` and all other (numerical) features."
   ]
  },
  {
   "cell_type": "markdown",
   "metadata": {},
   "source": [
    "Let's first glance at what the `corr()` method does:"
   ]
  },
  {
   "cell_type": "code",
   "execution_count": 20,
   "metadata": {},
   "outputs": [
    {
     "data": {
      "text/html": [
       "<div>\n",
       "<style scoped>\n",
       "    .dataframe tbody tr th:only-of-type {\n",
       "        vertical-align: middle;\n",
       "    }\n",
       "\n",
       "    .dataframe tbody tr th {\n",
       "        vertical-align: top;\n",
       "    }\n",
       "\n",
       "    .dataframe thead th {\n",
       "        text-align: right;\n",
       "    }\n",
       "</style>\n",
       "<table border=\"1\" class=\"dataframe\">\n",
       "  <thead>\n",
       "    <tr style=\"text-align: right;\">\n",
       "      <th></th>\n",
       "      <th>id</th>\n",
       "      <th>scrape_id</th>\n",
       "      <th>host_id</th>\n",
       "      <th>host_listings_count</th>\n",
       "      <th>host_total_listings_count</th>\n",
       "      <th>latitude</th>\n",
       "      <th>longitude</th>\n",
       "      <th>accommodates</th>\n",
       "      <th>bathrooms</th>\n",
       "      <th>bedrooms</th>\n",
       "      <th>...</th>\n",
       "      <th>review_scores_checkin</th>\n",
       "      <th>review_scores_communication</th>\n",
       "      <th>review_scores_location</th>\n",
       "      <th>review_scores_value</th>\n",
       "      <th>calculated_host_listings_count</th>\n",
       "      <th>calculated_host_listings_count_entire_homes</th>\n",
       "      <th>calculated_host_listings_count_private_rooms</th>\n",
       "      <th>calculated_host_listings_count_shared_rooms</th>\n",
       "      <th>reviews_per_month</th>\n",
       "      <th>label_price</th>\n",
       "    </tr>\n",
       "  </thead>\n",
       "  <tbody>\n",
       "    <tr>\n",
       "      <th>id</th>\n",
       "      <td>1.000000e+00</td>\n",
       "      <td>-4.269620e-13</td>\n",
       "      <td>5.861676e-01</td>\n",
       "      <td>1.299180e-01</td>\n",
       "      <td>1.299180e-01</td>\n",
       "      <td>1.000083e-02</td>\n",
       "      <td>8.708041e-02</td>\n",
       "      <td>3.540148e-02</td>\n",
       "      <td>NaN</td>\n",
       "      <td>4.742906e-02</td>\n",
       "      <td>...</td>\n",
       "      <td>-9.156486e-02</td>\n",
       "      <td>-1.195007e-01</td>\n",
       "      <td>3.222227e-03</td>\n",
       "      <td>-7.080059e-02</td>\n",
       "      <td>2.366733e-01</td>\n",
       "      <td>1.371325e-01</td>\n",
       "      <td>2.118813e-01</td>\n",
       "      <td>4.671123e-02</td>\n",
       "      <td>2.316854e-01</td>\n",
       "      <td>7.906593e-02</td>\n",
       "    </tr>\n",
       "    <tr>\n",
       "      <th>scrape_id</th>\n",
       "      <td>-4.269620e-13</td>\n",
       "      <td>1.000000e+00</td>\n",
       "      <td>2.367225e-13</td>\n",
       "      <td>-1.386017e-14</td>\n",
       "      <td>-1.386017e-14</td>\n",
       "      <td>7.448373e-13</td>\n",
       "      <td>-1.544987e-11</td>\n",
       "      <td>1.251408e-14</td>\n",
       "      <td>NaN</td>\n",
       "      <td>1.114349e-14</td>\n",
       "      <td>...</td>\n",
       "      <td>1.379149e-13</td>\n",
       "      <td>9.055966e-14</td>\n",
       "      <td>1.895615e-13</td>\n",
       "      <td>9.019724e-14</td>\n",
       "      <td>-5.055182e-14</td>\n",
       "      <td>2.212092e-14</td>\n",
       "      <td>-4.315383e-14</td>\n",
       "      <td>-9.152507e-15</td>\n",
       "      <td>5.899236e-15</td>\n",
       "      <td>-3.138348e-14</td>\n",
       "    </tr>\n",
       "    <tr>\n",
       "      <th>host_id</th>\n",
       "      <td>5.861676e-01</td>\n",
       "      <td>2.367225e-13</td>\n",
       "      <td>1.000000e+00</td>\n",
       "      <td>3.189870e-02</td>\n",
       "      <td>3.189870e-02</td>\n",
       "      <td>4.148254e-02</td>\n",
       "      <td>1.162017e-01</td>\n",
       "      <td>2.722884e-02</td>\n",
       "      <td>NaN</td>\n",
       "      <td>2.343412e-02</td>\n",
       "      <td>...</td>\n",
       "      <td>-1.488953e-01</td>\n",
       "      <td>-1.742021e-01</td>\n",
       "      <td>-7.863950e-02</td>\n",
       "      <td>-1.333992e-01</td>\n",
       "      <td>1.575424e-01</td>\n",
       "      <td>2.524284e-02</td>\n",
       "      <td>1.931984e-01</td>\n",
       "      <td>7.830736e-02</td>\n",
       "      <td>2.084392e-01</td>\n",
       "      <td>4.053291e-02</td>\n",
       "    </tr>\n",
       "    <tr>\n",
       "      <th>host_listings_count</th>\n",
       "      <td>1.299180e-01</td>\n",
       "      <td>-1.386017e-14</td>\n",
       "      <td>3.189870e-02</td>\n",
       "      <td>1.000000e+00</td>\n",
       "      <td>1.000000e+00</td>\n",
       "      <td>3.476552e-02</td>\n",
       "      <td>-8.844226e-02</td>\n",
       "      <td>-2.621641e-02</td>\n",
       "      <td>NaN</td>\n",
       "      <td>-1.795998e-02</td>\n",
       "      <td>...</td>\n",
       "      <td>-1.699963e-02</td>\n",
       "      <td>-5.027862e-02</td>\n",
       "      <td>6.337727e-03</td>\n",
       "      <td>-7.390886e-02</td>\n",
       "      <td>4.294481e-01</td>\n",
       "      <td>5.418872e-01</td>\n",
       "      <td>1.491494e-01</td>\n",
       "      <td>-1.594965e-02</td>\n",
       "      <td>-2.091241e-02</td>\n",
       "      <td>1.313589e-01</td>\n",
       "    </tr>\n",
       "    <tr>\n",
       "      <th>host_total_listings_count</th>\n",
       "      <td>1.299180e-01</td>\n",
       "      <td>-1.386017e-14</td>\n",
       "      <td>3.189870e-02</td>\n",
       "      <td>1.000000e+00</td>\n",
       "      <td>1.000000e+00</td>\n",
       "      <td>3.476552e-02</td>\n",
       "      <td>-8.844226e-02</td>\n",
       "      <td>-2.621641e-02</td>\n",
       "      <td>NaN</td>\n",
       "      <td>-1.795998e-02</td>\n",
       "      <td>...</td>\n",
       "      <td>-1.699963e-02</td>\n",
       "      <td>-5.027862e-02</td>\n",
       "      <td>6.337727e-03</td>\n",
       "      <td>-7.390886e-02</td>\n",
       "      <td>4.294481e-01</td>\n",
       "      <td>5.418872e-01</td>\n",
       "      <td>1.491494e-01</td>\n",
       "      <td>-1.594965e-02</td>\n",
       "      <td>-2.091241e-02</td>\n",
       "      <td>1.313589e-01</td>\n",
       "    </tr>\n",
       "  </tbody>\n",
       "</table>\n",
       "<p>5 rows × 41 columns</p>\n",
       "</div>"
      ],
      "text/plain": [
       "                                     id     scrape_id       host_id  \\\n",
       "id                         1.000000e+00 -4.269620e-13  5.861676e-01   \n",
       "scrape_id                 -4.269620e-13  1.000000e+00  2.367225e-13   \n",
       "host_id                    5.861676e-01  2.367225e-13  1.000000e+00   \n",
       "host_listings_count        1.299180e-01 -1.386017e-14  3.189870e-02   \n",
       "host_total_listings_count  1.299180e-01 -1.386017e-14  3.189870e-02   \n",
       "\n",
       "                           host_listings_count  host_total_listings_count  \\\n",
       "id                                1.299180e-01               1.299180e-01   \n",
       "scrape_id                        -1.386017e-14              -1.386017e-14   \n",
       "host_id                           3.189870e-02               3.189870e-02   \n",
       "host_listings_count               1.000000e+00               1.000000e+00   \n",
       "host_total_listings_count         1.000000e+00               1.000000e+00   \n",
       "\n",
       "                               latitude     longitude  accommodates  \\\n",
       "id                         1.000083e-02  8.708041e-02  3.540148e-02   \n",
       "scrape_id                  7.448373e-13 -1.544987e-11  1.251408e-14   \n",
       "host_id                    4.148254e-02  1.162017e-01  2.722884e-02   \n",
       "host_listings_count        3.476552e-02 -8.844226e-02 -2.621641e-02   \n",
       "host_total_listings_count  3.476552e-02 -8.844226e-02 -2.621641e-02   \n",
       "\n",
       "                           bathrooms      bedrooms  ...  \\\n",
       "id                               NaN  4.742906e-02  ...   \n",
       "scrape_id                        NaN  1.114349e-14  ...   \n",
       "host_id                          NaN  2.343412e-02  ...   \n",
       "host_listings_count              NaN -1.795998e-02  ...   \n",
       "host_total_listings_count        NaN -1.795998e-02  ...   \n",
       "\n",
       "                           review_scores_checkin  review_scores_communication  \\\n",
       "id                                 -9.156486e-02                -1.195007e-01   \n",
       "scrape_id                           1.379149e-13                 9.055966e-14   \n",
       "host_id                            -1.488953e-01                -1.742021e-01   \n",
       "host_listings_count                -1.699963e-02                -5.027862e-02   \n",
       "host_total_listings_count          -1.699963e-02                -5.027862e-02   \n",
       "\n",
       "                           review_scores_location  review_scores_value  \\\n",
       "id                                   3.222227e-03        -7.080059e-02   \n",
       "scrape_id                            1.895615e-13         9.019724e-14   \n",
       "host_id                             -7.863950e-02        -1.333992e-01   \n",
       "host_listings_count                  6.337727e-03        -7.390886e-02   \n",
       "host_total_listings_count            6.337727e-03        -7.390886e-02   \n",
       "\n",
       "                           calculated_host_listings_count  \\\n",
       "id                                           2.366733e-01   \n",
       "scrape_id                                   -5.055182e-14   \n",
       "host_id                                      1.575424e-01   \n",
       "host_listings_count                          4.294481e-01   \n",
       "host_total_listings_count                    4.294481e-01   \n",
       "\n",
       "                           calculated_host_listings_count_entire_homes  \\\n",
       "id                                                        1.371325e-01   \n",
       "scrape_id                                                 2.212092e-14   \n",
       "host_id                                                   2.524284e-02   \n",
       "host_listings_count                                       5.418872e-01   \n",
       "host_total_listings_count                                 5.418872e-01   \n",
       "\n",
       "                           calculated_host_listings_count_private_rooms  \\\n",
       "id                                                         2.118813e-01   \n",
       "scrape_id                                                 -4.315383e-14   \n",
       "host_id                                                    1.931984e-01   \n",
       "host_listings_count                                        1.491494e-01   \n",
       "host_total_listings_count                                  1.491494e-01   \n",
       "\n",
       "                           calculated_host_listings_count_shared_rooms  \\\n",
       "id                                                        4.671123e-02   \n",
       "scrape_id                                                -9.152507e-15   \n",
       "host_id                                                   7.830736e-02   \n",
       "host_listings_count                                      -1.594965e-02   \n",
       "host_total_listings_count                                -1.594965e-02   \n",
       "\n",
       "                           reviews_per_month   label_price  \n",
       "id                              2.316854e-01  7.906593e-02  \n",
       "scrape_id                       5.899236e-15 -3.138348e-14  \n",
       "host_id                         2.084392e-01  4.053291e-02  \n",
       "host_listings_count            -2.091241e-02  1.313589e-01  \n",
       "host_total_listings_count      -2.091241e-02  1.313589e-01  \n",
       "\n",
       "[5 rows x 41 columns]"
      ]
     },
     "execution_count": 20,
     "metadata": {},
     "output_type": "execute_result"
    }
   ],
   "source": [
    "df.corr().head()"
   ]
  },
  {
   "cell_type": "markdown",
   "metadata": {},
   "source": [
    "The result is a computed *correlation matrix*. The values on the diagonal are all equal to 1, and the matrix is symmetrical with respect to the diagonal (note that we are only printing the first five lines of it).<br>\n",
    "\n",
    "We only need to observe correlations of all features with *the label* (as opposed to every possible pairwise correlation). <br>\n",
    "\n",
    "**Task**: Save the `label_price` column of the correlation matrix to the variable `corrs`:"
   ]
  },
  {
   "cell_type": "code",
   "execution_count": 21,
   "metadata": {},
   "outputs": [
    {
     "name": "stdout",
     "output_type": "stream",
     "text": [
      "id                                              7.906593e-02\n",
      "scrape_id                                      -3.138348e-14\n",
      "host_id                                         4.053291e-02\n",
      "host_listings_count                             1.313589e-01\n",
      "host_total_listings_count                       1.313589e-01\n",
      "latitude                                        4.329905e-02\n",
      "longitude                                      -2.069501e-01\n",
      "accommodates                                    5.006227e-01\n",
      "bathrooms                                                NaN\n",
      "bedrooms                                        4.372328e-01\n",
      "beds                                            3.866851e-01\n",
      "price                                           7.111249e-01\n",
      "minimum_nights                                 -7.589208e-02\n",
      "maximum_nights                                 -9.728756e-04\n",
      "minimum_minimum_nights                         -3.803776e-02\n",
      "maximum_minimum_nights                          6.553784e-02\n",
      "minimum_maximum_nights                          6.581829e-02\n",
      "maximum_maximum_nights                          1.116868e-01\n",
      "minimum_nights_avg_ntm                          6.387517e-02\n",
      "maximum_nights_avg_ntm                          8.209898e-02\n",
      "calendar_updated                                         NaN\n",
      "availability_30                                 1.456894e-01\n",
      "availability_60                                 1.470082e-01\n",
      "availability_90                                 1.439066e-01\n",
      "availability_365                                1.235559e-01\n",
      "number_of_reviews                              -4.197310e-02\n",
      "number_of_reviews_ltm                           2.757416e-02\n",
      "number_of_reviews_l30d                          2.158982e-02\n",
      "review_scores_rating                            4.319689e-02\n",
      "review_scores_accuracy                          5.358322e-03\n",
      "review_scores_cleanliness                       8.254405e-02\n",
      "review_scores_checkin                          -3.665125e-03\n",
      "review_scores_communication                     1.206558e-04\n",
      "review_scores_location                          9.724051e-02\n",
      "review_scores_value                            -4.816654e-03\n",
      "calculated_host_listings_count                 -1.581634e-02\n",
      "calculated_host_listings_count_entire_homes     9.508782e-02\n",
      "calculated_host_listings_count_private_rooms   -9.977978e-02\n",
      "calculated_host_listings_count_shared_rooms    -4.333734e-02\n",
      "reviews_per_month                               3.113557e-02\n",
      "label_price                                     1.000000e+00\n",
      "Name: label_price, dtype: float64\n"
     ]
    }
   ],
   "source": [
    "\n",
    "corr_matrix = df.corr()\n",
    "corrs = corr_matrix['label_price']\n",
    "print(corrs)\n"
   ]
  },
  {
   "cell_type": "markdown",
   "metadata": {},
   "source": [
    "**Task**: Sort the values of the series we just obtained in the descending order."
   ]
  },
  {
   "cell_type": "code",
   "execution_count": 22,
   "metadata": {},
   "outputs": [
    {
     "name": "stdout",
     "output_type": "stream",
     "text": [
      "label_price                                     1.000000e+00\n",
      "price                                           7.111249e-01\n",
      "accommodates                                    5.006227e-01\n",
      "bedrooms                                        4.372328e-01\n",
      "beds                                            3.866851e-01\n",
      "availability_60                                 1.470082e-01\n",
      "availability_30                                 1.456894e-01\n",
      "availability_90                                 1.439066e-01\n",
      "host_listings_count                             1.313589e-01\n",
      "host_total_listings_count                       1.313589e-01\n",
      "availability_365                                1.235559e-01\n",
      "maximum_maximum_nights                          1.116868e-01\n",
      "review_scores_location                          9.724051e-02\n",
      "calculated_host_listings_count_entire_homes     9.508782e-02\n",
      "review_scores_cleanliness                       8.254405e-02\n",
      "maximum_nights_avg_ntm                          8.209898e-02\n",
      "id                                              7.906593e-02\n",
      "minimum_maximum_nights                          6.581829e-02\n",
      "maximum_minimum_nights                          6.553784e-02\n",
      "minimum_nights_avg_ntm                          6.387517e-02\n",
      "latitude                                        4.329905e-02\n",
      "review_scores_rating                            4.319689e-02\n",
      "host_id                                         4.053291e-02\n",
      "reviews_per_month                               3.113557e-02\n",
      "number_of_reviews_ltm                           2.757416e-02\n",
      "number_of_reviews_l30d                          2.158982e-02\n",
      "review_scores_accuracy                          5.358322e-03\n",
      "review_scores_communication                     1.206558e-04\n",
      "scrape_id                                      -3.138348e-14\n",
      "maximum_nights                                 -9.728756e-04\n",
      "review_scores_checkin                          -3.665125e-03\n",
      "review_scores_value                            -4.816654e-03\n",
      "calculated_host_listings_count                 -1.581634e-02\n",
      "minimum_minimum_nights                         -3.803776e-02\n",
      "number_of_reviews                              -4.197310e-02\n",
      "calculated_host_listings_count_shared_rooms    -4.333734e-02\n",
      "minimum_nights                                 -7.589208e-02\n",
      "calculated_host_listings_count_private_rooms   -9.977978e-02\n",
      "longitude                                      -2.069501e-01\n",
      "bathrooms                                                NaN\n",
      "calendar_updated                                         NaN\n",
      "Name: label_price, dtype: float64\n"
     ]
    }
   ],
   "source": [
    "corrs_sorted = corrs.sort_values(ascending = False)\n",
    "print(corrs_sorted)\n",
    "\n"
   ]
  },
  {
   "cell_type": "markdown",
   "metadata": {},
   "source": [
    "**Task**: In the code cell below, save the *column names* for the top-2 correlation values to the list `top_two_corr` (not counting the correlation of `label` column with itself, nor the `price` column -- which is the `label` column prior to outlier removal). Add the column names to the list in the order in which they appear in the output above. <br>\n",
    "Tip: `corrs_sorted` is a Pandas `Series` object, in which column names are the *index*."
   ]
  },
  {
   "cell_type": "code",
   "execution_count": 23,
   "metadata": {},
   "outputs": [
    {
     "name": "stdout",
     "output_type": "stream",
     "text": [
      "['accommodates', 'bedrooms']\n"
     ]
    }
   ],
   "source": [
    "top_two_corr = corrs_sorted.index[2:4].tolist()\n",
    "print(top_two_corr)\n",
    "\n",
    "\n",
    "\n"
   ]
  },
  {
   "cell_type": "markdown",
   "metadata": {},
   "source": [
    "## Part 6. Produce Bivariate Plots for the Label and Its Top Correlates"
   ]
  },
  {
   "cell_type": "markdown",
   "metadata": {},
   "source": [
    "We will use the `pairplot()` function in `seaborn` to plot the relationships between the two features we identified and the label."
   ]
  },
  {
   "cell_type": "markdown",
   "metadata": {},
   "source": [
    "**Task**: Create a DataFrame `df_sub` that contains only the selected three columns: the label, and the two columns which correlate with it the most."
   ]
  },
  {
   "cell_type": "code",
   "execution_count": 24,
   "metadata": {
    "scrolled": true
   },
   "outputs": [],
   "source": [
    "# Do not remove or edit the line below:\n",
    "top_two_corr.append('label_price')\n",
    "\n",
    "df_sub = df[top_two_corr]\n",
    "\n",
    "\n"
   ]
  },
  {
   "cell_type": "markdown",
   "metadata": {},
   "source": [
    "**Task**: Create a `seaborn` pairplot of the data subset you just created"
   ]
  },
  {
   "cell_type": "code",
   "execution_count": 25,
   "metadata": {},
   "outputs": [
    {
     "data": {
      "text/plain": [
       "<seaborn.axisgrid.PairGrid at 0x7f0138764518>"
      ]
     },
     "execution_count": 25,
     "metadata": {},
     "output_type": "execute_result"
    },
    {
     "data": {
      "image/png": "[encoded data removed]",
      "text/plain": [
       "<Figure size 540x540 with 12 Axes>"
      ]
     },
     "metadata": {},
     "output_type": "display_data"
    }
   ],
   "source": [
    "#YOUR CODE HERE\n",
    "\n",
    "sns.pairplot(df_sub)\n",
    "\n",
    "\n",
    "\n",
    "\n",
    "\n",
    "\n",
    "\n",
    "\n",
    "\n",
    "\n",
    "\n",
    "\n",
    "\n",
    "\n",
    "\n"
   ]
  },
  {
   "cell_type": "markdown",
   "metadata": {},
   "source": [
    "This one is not very easy to make sense of: the points overlap, but we do not have visibility into how densely they are stacked together.\n",
    "<br>\n",
    "\n",
    "**Task**: Repeat the `pairplot` exercise, this time specifying the *kernel density estimator* as the *kind* of the plot.<br>\n",
    "    Tip: use `kind = 'kde'` as a parameter of the `pairplot()` function. You could also specify `corner=True` to make sure you don't plot redundant (symmetrical) plots.\n",
    "   <br>\n",
    "   Note: this one may take a while!"
   ]
  },
  {
   "cell_type": "code",
   "execution_count": 28,
   "metadata": {
    "scrolled": true
   },
   "outputs": [
    {
     "data": {
      "text/plain": [
       "<seaborn.axisgrid.PairGrid at 0x7f0137a68ba8>"
      ]
     },
     "execution_count": 28,
     "metadata": {},
     "output_type": "execute_result"
    },
    {
     "data": {
      "image/png": "[encoded data removed]",
      "text/plain": [
       "<Figure size 540x540 with 9 Axes>"
      ]
     },
     "metadata": {},
     "output_type": "display_data"
    }
   ],
   "source": [
    "# YOUR CODE HERE\n",
    "\n",
    "\n",
    "sns.pairplot(df_sub, kind = 'kde', corner = True)\n",
    "\n"
   ]
  },
  {
   "cell_type": "markdown",
   "metadata": {},
   "source": [
    "<b>Analysis:</b> Think about the possible interpretations of these plots. (Recall that our label encodes the listing price). <br>\n",
    "What kind of stories does this data seem to be telling? Is the relationship what you thought it would be? Is there anything surprising or, on the contrary, reassuring about the plots?<br>\n",
    "For example, how would you explain the relationship between the label and 'accommodates'? Is there a slight tilt to the points cluster, as the price goes up?<br>\n",
    "What other patterns do you observe?"
   ]
  },
  {
   "cell_type": "code",
   "execution_count": null,
   "metadata": {},
   "outputs": [],
   "source": []
  },
  {
   "cell_type": "markdown",
   "metadata": {},
   "source": [
    "<Double click this Markdown cell to make it editable, and record your findings here.>\n",
    "\n",
    "When reviewing the data I noticed the data is skewed to the left . This tells us that less bedroom needed,less cost. I did believe the data would look like this, I hypothesized earlier in my notes and was proven to be true. The only data that suprises me are the outliers becuase the points are deviated significantly from the data. As stated previously the relationship between label and accommodates the less label_price needed, less accommodates needed. Yes, there is a slight tilt to the points cluster as the price goes up but the mean of the data stays low and closer to the x-axis."
   ]
  }
 ],
 "metadata": {
  "kernelspec": {
   "display_name": "Python 3",
   "language": "python",
   "name": "python3"
  },
  "language_info": {
   "codemirror_mode": {
    "name": "ipython",
    "version": 3
   },
   "file_extension": ".py",
   "mimetype": "text/x-python",
   "name": "python",
   "nbconvert_exporter": "python",
   "pygments_lexer": "ipython3",
   "version": "3.6.9"
  },
  "toc": {
   "base_numbering": 1,
   "nav_menu": {},
   "number_sections": false,
   "sideBar": true,
   "skip_h1_title": false,
   "title_cell": "Table of Contents",
   "title_sidebar": "Contents",
   "toc_cell": false,
   "toc_position": {},
   "toc_section_display": true,
   "toc_window_display": false
  },
  "varInspector": {
   "cols": {
    "lenName": 16,
    "lenType": 16,
    "lenVar": 40
   },
   "kernels_config": {
    "python": {
     "delete_cmd_postfix": "",
     "delete_cmd_prefix": "del ",
     "library": "var_list.py",
     "varRefreshCmd": "print(var_dic_list())"
    },
    "r": {
     "delete_cmd_postfix": ") ",
     "delete_cmd_prefix": "rm(",
     "library": "var_list.r",
     "varRefreshCmd": "cat(var_dic_list()) "
    }
   },
   "types_to_exclude": [
    "module",
    "function",
    "builtin_function_or_method",
    "instance",
    "_Feature"
   ],
   "window_display": false
  }
 },
 "nbformat": 4,
 "nbformat_minor": 2
}
